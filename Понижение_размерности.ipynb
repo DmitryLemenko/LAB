      <!DOCTYPE html>
      <html lang="ru" class="vk vk_js_no vk_1x vk_flex_no r m h  vk_appAuth_yes n vk_modern  vk_schemes_no   "><head>
          <meta charset="utf-8">
    
    <meta name="viewport" content="width=device-width, initial-scale=1.0, minimum-scale=1.0, maximum-scale=1.0, minimal-ui, user-scalable=no" />
    <meta name="format-detection" content="telephone=no" />
    <meta http-equiv="X-UA-Compatible" content="IE=edge" />
    <meta name="MobileOptimized" content="176" />
    <meta name="HandheldFriendly" content="True" />
    <base id="base">
    
    <meta name="description" content="ВКонтакте – универсальное средство для общения и поиска друзей и одноклассников, которым ежедневно пользуются десятки миллионов человек. Мы хотим, чтобы друзья, однокурсники, одноклассники, соседи и коллеги всегда оставались в контакте." />
    <link rel="shortcut icon" href="/images/icons/favicons/fav_logo.ico?9"></link>
        <link rel="icon" type="image/png" sizes="32x32" href="/images/icons/pwa/favicon_32.png?12">
    <link rel="apple-touch-icon" href="/images/icons/pwa/apple/default.png?15">
    <meta name="apple-mobile-web-app-title" content="ВКонтакте">
    <meta name="application-name" content="ВКонтакте">
    <meta name="mobile-web-app-capable" content="yes">
    <meta name="apple-mobile-web-app-status-bar-style" content="black">
    <meta name="theme-color" content="#ffffff">
<meta name="color-scheme" content="light">
    <title>Вход | ВКонтакте</title>
          <meta http-equiv="origin-trial" content="AiJEtxZTdbmRu3zkrD0Bg/GvReuip5r0aklN7tIrw1Yit01/+j7PNlJFAyMMo/vqqNVvDmRsGCPGfVtNn5ookQ8AAABueyJvcmlnaW4iOiJodHRwczovL3ZrLmNvbTo0NDMiLCJmZWF0dXJlIjoiRG9jdW1lbnRQaWN0dXJlSW5QaWN0dXJlQVBJIiwiZXhwaXJ5IjoxNjk0MTMxMTk5LCJpc1N1YmRvbWFpbiI6dHJ1ZX0=">
    <script nomodule>window.nomodules = true;</script>
    <script type="text/javascript">;/*challenge*/
(function () {
  'use strict';

  // eslint-disable-next-line no-restricted-syntax
  function challenge({ isEnabled }) {
      if (!isEnabled) {
          return;
      }
      let isRedirectRequested = false;
      function redirect(target) {
          if (!isRedirectRequested) {
              isRedirectRequested = true;
              window.location.href = target;
          }
      }
      function getRedirectTarget(parameter) {
          return `${parameter}=${encodeURIComponent(window.location.href)}`;
      }
      const observer = new PerformanceObserver((list)=>{
          for (const entry of list.getEntries()){
              if (entry.serverTiming) {
                  for (const serverEntry of entry.serverTiming){
                      if (serverEntry.name !== 'challenge') {
                          return;
                      }
                      const { origin } = new URL(entry.name);
                      redirect(origin + serverEntry.description + '?' + getRedirectTarget('back'));
                  }
              }
          }
      });
      observer.observe({
          entryTypes: [
              'navigation',
              'resource'
          ]
      });
  }

  return challenge;

})()({"isEnabled":false});</script>
    
    
    <script>
      (function() {
        window.vk = {"id":0,"age":0,"pabs":21,"__debug":false,"__atest":false,"__dev":false,"__domain":"vk.com","wsTransport":"https:\/\/stats.vk-portal.net","statsMeta":{"platform":"mvk","st":false,"time":1732267513,"hash":"z7S3ZZZbH114hZRPkZd3GcQogwgHsZkEfoKNTlYKrt0","reloadVersion":31},"tnsPixelType":"unauth","tnsPixelSocdem":"13","main_platform":"mvk","platform":"mvk","apiConfigDomains":{"domain":"m.vk.com","apiDomain":"api.vk.com","loginDomain":"login.vk.com","connectDomain":"id.vk.com"},"logoutUrl":"https:\/\/login.vk.com\/?act=logout_mobile&hash=2666b798bd2ba6416a&_origin=https%3A%2F%2Fm.vk.com&reason=tn&lrt=47DEQpj8HBSa-_TImW-5JCeuQeRkm5NMpJWZG3hSuFU","selectorsToCheck":[],"isCallsDevEnv":false,"preloadTabbarStaticConfig":{"feed":["profile_redesign.js","group_redesign.js","video.js","video_showcase.js","short_video.js","mail.js"],"video":["feed.js","stories_feed_block.js","mail.js","short_video.js"],"mail":["feed.js","stories_feed_block.js","video.js","video_showcase.js","short_video.js"],"clips":["feed.js","stories_feed_block.js","mail.js","video.js","video_showcase.js"]},"rv":"119617","ts":1732267513,"sw":null,"static":{"js_stage":1,"css_stage":1,"flushed_assets":[],"domain":"https:\/\/st3-20.vk.com","nav_map":{"^\\\/join":["join.js","join.css"],"promocode(\\\/([0-9a-zA-Z-]+))?":["promocode.js","promocode.css"],"^\\\/audio":["audio.js"],"^\\\/video":["video.css","video.js","mail.css"],"^\\\/clip":["ShortVideoPage.css","short_videos_page.css","short_video.js","mail.css"],"^\\\/(photo|album|tag|attachments|market|uslugi)":["photo.css","mail.css","photoview.js","photo.js"],"^\\\/(wall|mail|write|im|chatjoin)":["mail.css","wall.css"],"settings\\?act=money_transfer_history":["money_transfer_history.js","money_transfer_history.css"],"^\\\/settings":["settings.js","settings.css"],"settings\\?act=business_notify":["business_notify_settings.js","business_notify_settings.css"],"reports\\?act=":["reports.css"],"^\\\/(blog|about|press|jobs|products|adv)":["blog.css","blog.js","mail.css"],"^\\\/(product|cart|cart_order|orders|market\\.php)(\\??[0-9a-zA-Z=_-]+)?":["market.js","market.css"],"^\\\/(reviews)":["market.js","market.css","photo.css"],"^\\\/(vkcrowdsource)":["crowdsource.js","crowdsource.css"],"^\\\/groups_catalog\\\/([0-9a-zA-Z_\\-]+)$":["groups_catalog.js"],"z=(story|narrative)(-?\\d+_\\d+)":["stories.css","stories.js"],"z=photo(-?\\d+_\\d+)":["photo.js"]},"assets":{"addresses_list.css":["addresses_list.1544e17f0902207009ff.css"],"apps_stub_redesigned.css":["apps_stub_redesigned.19912ce26f1a41a7200b.css"],"apps_stub.css":["apps_stub.5b424314dcd3eb1e0cdc.css"],"apps.css":["apps.c3035cdead987c9d1973.css"],"article_common.css":["article_common.ef0df8aa46571129c65d.css"],"article.css":["article.a6e948ee9bbb9cf4612e.css"],"AttachmentSkeletons.css":["AttachmentSkeletons.dd544d2bf5ade5980242.css"],"audio_player_bottom.css":["audio_player_bottom.c350a854f4f18508064a.css"],"audio_player_mini.css":["audio_player_mini.a019ce4e91c18f2d4608.css"],"audio.css":["audio.3327cdb8a0a9e7799bc1.css"],"author_page.css":["author_page.0a2d0ee6d9364e38721e.css"],"away.css":["away.fa1fd3ea233dc4d471b5.css"],"BadBrowser.css":["BadBrowser.f08dd9fb248c03fed1d1.css"],"blog.css":["blog.da535028af0156fea866.css"],"bookmarks.css":["bookmarks.13dab899f70194f589c9.css"],"BookmarksApps.css":["BookmarksApps.934cacc0cd94e81687e9.css"],"business_notify_settings.css":["business_notify_settings.3f1b8a3964ef0e151545.css"],"calls.css":["calls.b2a02e9258f1688fb15b.css"],"CarouselSkeleton.css":["CarouselSkeleton.7d354bc672a9b7d904ce.css"],"common.css":["common.36b096b79de2799d59bf.css"],"crowdsource.css":["crowdsource.23b67a8a970b2966fbc0.css"],"feed.css":["feed.07d2c0e7ccf72c167aad.css"],"FeedBlockWrap.css":["FeedBlockWrap.1b05ee8fec564f9d3295.css"],"fonts_stories_new_avatar_story.css":["fonts_stories_new_avatar_story.efd296c6aeb1647a0e5b.css"],"fonts.css":["fonts.fb9f1910d4618183f000.css"],"friends.css":["friends.b81a35ee3b650c41dca8.css"],"GameInstallScreen.css":["GameInstallScreen.7b21f620d3bdfd9a15b4.css"],"group_redesign_name_history.css":["group_redesign_name_history.ea2d0651902d7df67c38.css"],"group_redesign.css":["group_redesign.99f49f498e5e6ae9f7db.css"],"group.css":["group.2398dd42099d7ffccdc4.css"],"groups_list.css":["groups_list.ff7a49b795b261bffb61.css"],"HiddenPostBlank.css":["HiddenPostBlank.b4ae79c8b9e9a574a668.css"],"inline_icons_migration.css":["inline_icons_migration.c1079600e28be904a459.css"],"join.css":["join.3374144bb321a2c8320b.css"],"legacy.css":["legacy.30821279ea4f52f3768d.css"],"like_publish.css":["like_publish.b4f13c4f6d8f6946395d.css"],"login_block_reason.css":["login_block_reason.e9d52aeb702106b37f35.css"],"login.css":["login.b904bc80f683c49fba98.css"],"mail.css":["mail.e57335fc06f3cffae205.css"],"market.css":["market.e55e2207368bd1c0abd5.css"],"mini_apps_catalog.css":["mini_apps_catalog.5125e3218d1cae6a1c01.css"],"money_transfer_history.css":["money_transfer_history.d8d05915bbeabc7025a7.css"],"narratives.css":["narratives.33a4f2dc6e415f05b51c.css"],"notifications.css":["notifications.f18544bbc8cb79fb2478.css"],"oauth_android.css":["oauth_android.0fc30fcb5e5758c7ad44.css"],"oauth_base.css":["oauth_base.7e2be2e12f035225a29f.css"],"oauth_ios.css":["oauth_ios.ef481b4ce68811d43080.css"],"oauth_winmobile.css":["oauth_winmobile.d44cfd74f84002995a5f.css"],"onboarding_screen_download_app.css":["onboarding_screen_download_app.4e9cc0501bb80599ab46.css"],"onboarding_screen_recom_themes.css":["onboarding_screen_recom_themes.ea04d9f89d833b1b1ab7.css"],"owner_cover_upload.css":["owner_cover_upload.a492de7c19fadb56c06e.css"],"owner_photo_upload.css":["owner_photo_upload.2c36688a3027a4b3efa0.css"],"page_bottom_banners.css":["page_bottom_banners.86789e932e625876d1e2.css"],"payments.css":["payments.61622c88b990b6e6e3d6.css"],"personal_discount.css":["personal_discount.53240101bf10f084a7f8.css"],"photo.css":["photo.d713ce5141c7734c21d8.css"],"podcasts.css":["podcasts.e8716fb314e500b9411e.css"],"PostContentSkeleton.css":["PostContentSkeleton.ae0bfbafff1ab7993b6d.css"],"posting_redesign.css":["posting_redesign.743b5273b3d1746499df.css"],"profile_edit.css":["profile_edit.b3fef7fe9dc3c90e9d01.css"],"profile_redesign.css":["profile_redesign.e746b5f82ff33ce870fd.css"],"profile.css":["profile.b41f2071e7bd53bf5f4c.css"],"promocode.css":["promocode.6c3be67003bda7c37b9c.css"],"PWAInstallGuide.css":["PWAInstallGuide.8a32784f178c0d55f78f.css"],"reactions.css":["reactions.3fcf5cbe67464158bc06.css"],"RecommendationSkeleton.css":["RecommendationSkeleton.444e5011f55ee4109fc5.css"],"reports.css":["reports.b901c36c8960c27b3c38.css"],"search.css":["search.45fe45ccba4af1a46d19.css"],"settings.css":["settings.fb8236422b2412ab63b6.css"],"short_videos_page.css":["short_videos_page.bae555b147c41372ab2a.css"],"ShortVideoPage.css":["ShortVideoPage.caec49e98dac95485277.css"],"ShortVideosPage.css":["ShortVideosPage.bae555b147c41372ab2a.css"],"special.css":["special.f6fffc1006f930dcb364.css"],"stories.css":["stories.a1ba3e9b4e740d6fe458.css"],"textlives.css":["textlives.773e7b0140f1b00cf1db.css"],"thumbnail_creator.css":["thumbnail_creator.133a48001d9da1f25a99.css"],"ugc_sticker.css":["ugc_sticker.2e8f40678a2f4062f8ae.css"],"unauthorized_search.css":["unauthorized_search.89d8f76df71c0fdc8b09.css"],"unauthorized.css":["unauthorized.9956e22c4702bc9562c5.css"],"universal_widget.css":["universal_widget.33a79eadb4f6aa53b78f.css"],"uxpolls.css":["uxpolls.38e6d6e44ab742224143.css"],"variables.css":["variables.63187e71fcaf4898c374.css"],"video.css":["video.fe220ee98c38f3736871.css"],"vk_connect.css":["vk_connect.bcad410120be139577d1.css"],"vk_sans_display_faux_inline.css":["vk_sans_display_faux_inline.dfe5379d7a1ccdff6d8a.css"],"vk_sans_display_faux.css":["vk_sans_display_faux.7709f6cb23b51d5ed980.css"],"vk_sans_display.css":["vk_sans_display.9f9256a15167150e20bd.css"],"vkui.css":["vkui.c224fdf0e6b6857fb489.css"],"wall.css":["wall.5c1d389fdea2c7f0aa54.css"],"webview.css":["webview.995627924ba9c03a3d10.css"],"internal\/debugLog.css":["internal\/debugLog.7908c4d9f646b2a1a59f.css"],"internal\/debugLog.js":["internal\/debugLog.5c325a083ee30842.js"],"internal\/debugMenu.js":["vendors~icons.49f9a17f17fd1f2c.js","vkcom-kit.3189a03dc9c9b49d.css","vkcom-kit.f99ac18cf57bbe7e.js","internal\/debugMenu.9665943fd411e07e.css","internal\/debugMenu.cc5ec03f5cf426b5.js"],"internal\/deploymentsTestTool.js":["vkcom-kit.3189a03dc9c9b49d.css","vkcom-kit.f99ac18cf57bbe7e.js","internal\/deploymentsTestTool.dc73242b90e5b5a6.js"],"app_action_snippet.js":["app_action_snippet.b3a5586b43872988.css","app_action_snippet.7754f8d0202154a9.js"],"app_slides_sheet.js":["vendors~icons.49f9a17f17fd1f2c.js","vkcom-kit.3189a03dc9c9b49d.css","vkcom-kit.f99ac18cf57bbe7e.js","app_slides_sheet.7566f516a5fb9ee9.js"],"apple_viewport_bug_demo.js":["apple_viewport_bug_demo.7267abbbabad8841.js"],"apps_attach_catalog.js":["vendors~icons.49f9a17f17fd1f2c.js","vendors.047c78daa8e27274.js","vendors~vk.9a2209201c89cb3e.js","vendors~runtime.cf0dbb82c6e8af09.js","vkcom-kit.3189a03dc9c9b49d.css","vkcom-kit.f99ac18cf57bbe7e.js","apps_attach_catalog.ca6d0533816bf276.css","apps_attach_catalog.b0ebd23ad1eecb4e.js"],"apps_connect.js":["vendors~icons.49f9a17f17fd1f2c.js","vendors.047c78daa8e27274.js","vendors~api.a809b349464c7bf4.js","vendors~vk.9a2209201c89cb3e.js","vendors~vkjs.49a5f0897f7c41c1.js","vkcom-kit.3189a03dc9c9b49d.css","vkcom-kit.f99ac18cf57bbe7e.js","b-1cce22aaa1fa62d0.bfd859b332810f2a.js","b-ec823887ab5b28be.33571401bf59152b.js","b-3578c8a6ebff7084.e1bdde655527cced.js","b-508d7151b9c20592.841593c22e43cbd9.js","b-7d8d677ac02d3142.6103eebb9a5d2570.js","apps_connect.21ae71ef227d0f79.css","apps_connect.2ead5c9477d83239.js","MiniAppService_MiniApp.bc29e014fef08336.js"],"apps_personal_discount.js":["vendors~icons.49f9a17f17fd1f2c.js","vkcom-kit.3189a03dc9c9b49d.css","vkcom-kit.f99ac18cf57bbe7e.js","apps_personal_discount.53aac61b8313b8f2.css","apps_personal_discount.9c0bae9a17e81ebb.js"],"apps_stub_redesigned.js":["vendors~icons.49f9a17f17fd1f2c.js","vkcom-kit.3189a03dc9c9b49d.css","vkcom-kit.f99ac18cf57bbe7e.js","apps_stub_redesigned.c3ad63a7ae050c9b.css","apps_stub_redesigned.d64423fa82b199c0.js"],"apps_stub.js":["vendors~icons.49f9a17f17fd1f2c.js","vendors.047c78daa8e27274.js","vendors~api.a809b349464c7bf4.js","vendors~vk.9a2209201c89cb3e.js","vendors~vkjs.49a5f0897f7c41c1.js","vendors~effector.2eb322c0f037ed29.js","vendors~runtime.cf0dbb82c6e8af09.js","vendors~vkui.d1d7afae67ef60a9.js","vendors~onlyReact.6e168b851c3b360c.js","nav.8f0dd3513ab5a094.js","vkcom-kit.3189a03dc9c9b49d.css","vkcom-kit.f99ac18cf57bbe7e.js","icons~2949c66bf4a49270.a2ce3ec6916b63c8.js","b-91e9b4f2208acd17.982d35e1db959e6e.js","b-070070c041cea63f.94866770352d3a4c.js","b-11dda9cf723a601b.d2815b1b445771b2.js","b-016dae3d4da9b073.5c4ff37f8d62058b.js","b-3193dfec3ede41e8.c9f48c08f9d3c316.js","apps_stub.8599a37db18b48d6.css","apps_stub.605cb55dce1d4f20.js"],"apps.js":["vendors~icons.49f9a17f17fd1f2c.js","vendors.047c78daa8e27274.js","vendors~api.a809b349464c7bf4.js","vendors~vk.9a2209201c89cb3e.js","vendors~vkjs.49a5f0897f7c41c1.js","vendors~effector.2eb322c0f037ed29.js","vendors~reactUtils.dd53503a221e4dfc.js","vendors~runtime.cf0dbb82c6e8af09.js","vendors~videoplayer.7e55282d8ef56a51.js","vendors~videoplayer-interactive.b8e78e51655a3c27.js","vendors~draggable.cd0fad5369325634.js","vendors~vkui.d1d7afae67ef60a9.js","vendors~onlyReact.6e168b851c3b360c.js","vendors~qr.0cece557c2d7d5f9.js","nav.8f0dd3513ab5a094.js","vkcom-kit.3189a03dc9c9b49d.css","vkcom-kit.f99ac18cf57bbe7e.js","sticker-lib.ee5a14519bf1a7bd.css","sticker-lib.3c62abe4a5741ea7.js","b-1ef0d0676d7b2451.cf7e3867b0e74916.js","b-6803b10d60edcc9d.6a4af565cf6d9fd7.js","b-16c89e7a8ff40d79.d1d881e5055a9ba8.js","b-6d2ec0e7ba8bf6e1.1828582f5e9da6b0.js","b-361a2c9076267225.92225ea42e0c1635.js","b-35702cb2add627ef.69627592e67c975f.js","b-5fee1b48335624a7.73ab6554a4309642.js","b-92f8de7599544c7e.e1c4d8558f451c20.js","b-02bd501f17b042d3.b5c6bdc490d3de40.js","b-d4bcda35b4e97773.98b21f86af618e4c.js","b-9eeea73fbd6eef8d.ebfaa048018fd89a.js","b-97f4d72085033cd4.5f00c36692545f26.css","b-97f4d72085033cd4.09c5e8646da4aebe.js","b-6f551f6614c4a842.584e812d4e4be5e8.js","b-8b1b72206d6aec17.bd5f063574ff75bc.js","b-704950e9febbceb9.f5456cee14de6bb4.js","b-9d62d2e4091967c3.b136a9cf1aaa68a3.js","b-a8fe2461fb0c2b76.7d42f8c978cd053b.js","b-1cce22aaa1fa62d0.bfd859b332810f2a.js","b-90b88eaffb4f4682.bd396ac5171e4d78.js","b-2766c6f8df990e3c.579222dcee4c3cea.js","b-c9e68753f5a220c9.3026b26f1ce82ca4.js","b-6ca1d90bf8b47d7e.8315088647b59cd3.js","b-a258a3fc1d5cf03d.e669d960075a6bb2.js","b-ec823887ab5b28be.33571401bf59152b.js","b-3578c8a6ebff7084.e1bdde655527cced.js","b-508d7151b9c20592.841593c22e43cbd9.js","b-7d8d677ac02d3142.6103eebb9a5d2570.js","icons~2949c66bf4a49270.a2ce3ec6916b63c8.js","b-91e9b4f2208acd17.982d35e1db959e6e.js","b-1c6435a70a0abcea.1680fb926edbe31c.js","b-070070c041cea63f.94866770352d3a4c.js","b-11dda9cf723a601b.d2815b1b445771b2.js","b-aecc3a00ca8e9bca.a105ddccbe2e662f.js","b-016dae3d4da9b073.5c4ff37f8d62058b.js","b-3193dfec3ede41e8.c9f48c08f9d3c316.js","b-aab2b5a41c88c033.835f6b2bd5510323.js","b-78c25a0f4db5d7b9.22b5bfec0bb76c37.js","b-b4b8efc2c17ae681.30d0767a9d4a07a4.js","b-09e91eb4bf799b32.2a0fd57c3624b1ba.js","b-133d6475553ef5e1.f1ef217de2aa8626.js","apps.638769b38efb7252.css","apps.f490c832caa5dc8d.js","MiniAppService_MiniApp.bc29e014fef08336.js"],"article_standalone.js":["vendors~icons.49f9a17f17fd1f2c.js","vendors.047c78daa8e27274.js","vendors~api.a809b349464c7bf4.js","vendors~vk.9a2209201c89cb3e.js","vendors~vkjs.49a5f0897f7c41c1.js","vendors~effector.2eb322c0f037ed29.js","vendors~runtime.cf0dbb82c6e8af09.js","vendors~videoplayer.7e55282d8ef56a51.js","vendors~videoplayer-interactive.b8e78e51655a3c27.js","vendors~vkui.d1d7afae67ef60a9.js","vendors~onlyReact.6e168b851c3b360c.js","nav.8f0dd3513ab5a094.js","vkcom-kit.3189a03dc9c9b49d.css","vkcom-kit.f99ac18cf57bbe7e.js","icons~2949c66bf4a49270.a2ce3ec6916b63c8.js","b-91e9b4f2208acd17.982d35e1db959e6e.js","b-77afd8b1f4d00987.8738497c2df271be.js","b-070070c041cea63f.94866770352d3a4c.js","b-11dda9cf723a601b.d2815b1b445771b2.js","b-2280af59a5339148.9876896304d37d08.js","b-382abfd247bf8ca2.93855aa182df0c3a.js","b-6d840ce89936d795.cae6ab7e3265b347.js","article_standalone.8599a37db18b48d6.css","article_standalone.0aab0ceee1b0b28d.js"],"article.js":["vendors~icons.49f9a17f17fd1f2c.js","vendors.047c78daa8e27274.js","vendors~videoplayer.7e55282d8ef56a51.js","vendors~videoplayer-interactive.b8e78e51655a3c27.js","vendors~vkui.d1d7afae67ef60a9.js","vkcom-kit.3189a03dc9c9b49d.css","vkcom-kit.f99ac18cf57bbe7e.js","b-77afd8b1f4d00987.8738497c2df271be.js","b-2280af59a5339148.9876896304d37d08.js","b-382abfd247bf8ca2.93855aa182df0c3a.js","article.9f458380973a01d2.js"],"audio_catalog.js":["vendors~icons.49f9a17f17fd1f2c.js","vendors.047c78daa8e27274.js","vendors~api.a809b349464c7bf4.js","vendors~vk.9a2209201c89cb3e.js","vendors~effector.2eb322c0f037ed29.js","vendors~reactUtils.dd53503a221e4dfc.js","vendors~runtime.cf0dbb82c6e8af09.js","vendors~draggable.cd0fad5369325634.js","vkcom-kit.3189a03dc9c9b49d.css","vkcom-kit.f99ac18cf57bbe7e.js","b-1ef0d0676d7b2451.cf7e3867b0e74916.js","b-16c89e7a8ff40d79.d1d881e5055a9ba8.js","b-92f8de7599544c7e.e1c4d8558f451c20.js","b-97f4d72085033cd4.5f00c36692545f26.css","b-97f4d72085033cd4.09c5e8646da4aebe.js","b-8b1b72206d6aec17.bd5f063574ff75bc.js","b-a8fe2461fb0c2b76.7d42f8c978cd053b.js","b-c9e68753f5a220c9.3026b26f1ce82ca4.js","audio_catalog.6bcba2fd17484387.css","audio_catalog.4c74e95a2c7c9f9d.js","AudioCatalog.bb5ec3fa857db260.js"],"audio_player_bottom.js":["audio_player_bottom.57662fada1b244ce.js"],"audio_player_mini.js":["audio_player_mini.181817e51a7c9118.js"],"audio_searcher.js":["b-b131cc1f4f7e3042.7e493f433cad699d.js","audio_searcher.ed1709a8a0285248.js"],"audio.js":["vendors.047c78daa8e27274.js","vkcom-kit.3189a03dc9c9b49d.css","vkcom-kit.f99ac18cf57bbe7e.js","b-6803b10d60edcc9d.6a4af565cf6d9fd7.js","b-6d2ec0e7ba8bf6e1.1828582f5e9da6b0.js","b-77afd8b1f4d00987.8738497c2df271be.js","b-b131cc1f4f7e3042.7e493f433cad699d.js","b-119c7c591f6531eb.8ac06c2a40b52034.js","b-c598f686d1311f2c.1aa1b4789a73a5a3.js","audio.1ad0e5124eff20ac.css","audio.92fffae4f268c101.js"],"author_likes_onboarding.js":["author_likes_onboarding.0c36462c66443d06.js"],"banned_tutorial.js":["banned_tutorial.2cf52214fadece5e.js"],"banned.js":["banned.6e678504db3678db.js"],"best_friends.js":["b-fd9e30d2547bb460.99c159d035c28241.js","best_friends.b2f7b4dd75ecbb5e.js"],"block_friends_recommendation_march_2023.js":["vendors~icons.49f9a17f17fd1f2c.js","vendors~api.a809b349464c7bf4.js","vendors~reactUtils.dd53503a221e4dfc.js","vkcom-kit.3189a03dc9c9b49d.css","vkcom-kit.f99ac18cf57bbe7e.js","b-1548998fac9da944.732d2250a4b593a9.js","b-afda04acd51726d1.6fa8d0e670489c5a.js","b-1534128c3b504fd6.e7a75838ef09d7b2.js","block_friends_recommendation_march_2023.c7b04d78462ae6df.css","block_friends_recommendation_march_2023.d669ccf30a31c051.js"],"block_good_authors_may_2023.js":["vendors~icons.49f9a17f17fd1f2c.js","vendors~api.a809b349464c7bf4.js","vendors~reactUtils.dd53503a221e4dfc.js","vkcom-kit.3189a03dc9c9b49d.css","vkcom-kit.f99ac18cf57bbe7e.js","b-1548998fac9da944.732d2250a4b593a9.js","b-afda04acd51726d1.6fa8d0e670489c5a.js","b-1534128c3b504fd6.e7a75838ef09d7b2.js","block_good_authors_may_2023.c7b04d78462ae6df.css","block_good_authors_may_2023.fb886365c4a2af66.js"],"blog.js":["blog.00101a785c449b0e.js"],"bridge_modals.js":["vendors~icons.49f9a17f17fd1f2c.js","vkcom-kit.3189a03dc9c9b49d.css","vkcom-kit.f99ac18cf57bbe7e.js","b-3578c8a6ebff7084.e1bdde655527cced.js","bridge_modals.28b07973e92a762d.css","bridge_modals.cf255d0344b75d13.js","GetAuthTokenModal.d0d2d748ecb934fb.js"],"business_notify_settings.js":["business_notify_settings.ce47e8c968e4743b.js"],"calls.js":["vendors.047c78daa8e27274.js","vendors~vk.9a2209201c89cb3e.js","vendors~vkjs.49a5f0897f7c41c1.js","vendors~effector.2eb322c0f037ed29.js","vendors~reactUtils.dd53503a221e4dfc.js","vkcom-kit.3189a03dc9c9b49d.css","vkcom-kit.f99ac18cf57bbe7e.js","b-704950e9febbceb9.f5456cee14de6bb4.js","b-9ea09ec6cd0b0f58.df4e81988797b652.js","calls.f02feda89c6449f8.js"],"chat_photo_upload.js":["chat_photo_upload.0994d9ea4876fc93.js"],"check_validation_phone.js":["vendors.047c78daa8e27274.js","vendors~vk.9a2209201c89cb3e.js","vkcom-kit.3189a03dc9c9b49d.css","vkcom-kit.f99ac18cf57bbe7e.js","check_validation_phone.f009f420cff4bc70.css","check_validation_phone.7ef207fa696bf094.js"],"coauthor_invite.js":["vendors~icons.49f9a17f17fd1f2c.js","vendors.047c78daa8e27274.js","vendors~api.a809b349464c7bf4.js","vendors~videoplayer.7e55282d8ef56a51.js","vendors~videoplayer-interactive.b8e78e51655a3c27.js","vendors~draggable.cd0fad5369325634.js","vkcom-kit.3189a03dc9c9b49d.css","vkcom-kit.f99ac18cf57bbe7e.js","b-1ef0d0676d7b2451.cf7e3867b0e74916.js","b-6d2ec0e7ba8bf6e1.1828582f5e9da6b0.js","b-361a2c9076267225.92225ea42e0c1635.js","b-35702cb2add627ef.69627592e67c975f.js","b-5fee1b48335624a7.73ab6554a4309642.js","b-02bd501f17b042d3.b5c6bdc490d3de40.js","b-d4bcda35b4e97773.98b21f86af618e4c.js","b-9eeea73fbd6eef8d.ebfaa048018fd89a.js","b-6f551f6614c4a842.584e812d4e4be5e8.js","b-83a2489330333558.f66a9f3bcd5d1e3f.js","b-5c3c8cecd2d16a7e.875f6f12d0cf1999.js","b-f0c5415302d53ba5.f0a6165cfc278815.js","coauthor_invite.aa5991b30d31761b.css","coauthor_invite.0e60b3439591965b.js"],"common.js":["runtime.71220519660788c0.js","vendors~icons.49f9a17f17fd1f2c.js","vendors.047c78daa8e27274.js","vendors~api.a809b349464c7bf4.js","vendors~vk.9a2209201c89cb3e.js","vendors~vkjs.49a5f0897f7c41c1.js","vendors~effector.2eb322c0f037ed29.js","vendors~runtime.cf0dbb82c6e8af09.js","vendors~vkui.d1d7afae67ef60a9.js","vendors~onlyReact.6e168b851c3b360c.js","vendors~sentry.34cf090fc00f043b.js","vendors~qr.0cece557c2d7d5f9.js","vendors~eventemitter.e34565a004092b5b.js","nav.8f0dd3513ab5a094.js","vkcom-kit.3189a03dc9c9b49d.css","vkcom-kit.f99ac18cf57bbe7e.js","icons~2949c66bf4a49270.a2ce3ec6916b63c8.js","b-91e9b4f2208acd17.982d35e1db959e6e.js","b-070070c041cea63f.94866770352d3a4c.js","b-11dda9cf723a601b.d2815b1b445771b2.js","b-aecc3a00ca8e9bca.a105ddccbe2e662f.js","b-016dae3d4da9b073.5c4ff37f8d62058b.js","b-eddde02b452bb196.ddc62f7cd81c72a6.js","b-3193dfec3ede41e8.c9f48c08f9d3c316.js","b-aab2b5a41c88c033.835f6b2bd5510323.js","b-ccefc682f38f859d.4eeea582fd367195.js","b-493df50a7f19a0a2.5c7f391e59091fc4.js","b-133d6475553ef5e1.f1ef217de2aa8626.js","b-6d840ce89936d795.cae6ab7e3265b347.js","b-495e1d7218a9b4c9.456e220b8bf85ec9.js","b-877e335784fc3aa9.c5c5daa16140b10f.js","common.93a7418bac3dc0a0.css","common.731f06996915b1c0.js"],"communities_catalog.js":["vendors~icons.49f9a17f17fd1f2c.js","vendors.047c78daa8e27274.js","vendors~api.a809b349464c7bf4.js","vendors~vk.9a2209201c89cb3e.js","vendors~effector.2eb322c0f037ed29.js","vendors~reactUtils.dd53503a221e4dfc.js","vendors~runtime.cf0dbb82c6e8af09.js","vendors~draggable.cd0fad5369325634.js","vkcom-kit.3189a03dc9c9b49d.css","vkcom-kit.f99ac18cf57bbe7e.js","b-1ef0d0676d7b2451.cf7e3867b0e74916.js","b-16c89e7a8ff40d79.d1d881e5055a9ba8.js","b-92f8de7599544c7e.e1c4d8558f451c20.js","b-97f4d72085033cd4.5f00c36692545f26.css","b-97f4d72085033cd4.09c5e8646da4aebe.js","b-8b1b72206d6aec17.bd5f063574ff75bc.js","b-a8fe2461fb0c2b76.7d42f8c978cd053b.js","b-c9e68753f5a220c9.3026b26f1ce82ca4.js","communities_catalog.6bcba2fd17484387.css","communities_catalog.88fb63c6e60d8b08.js","CommunitiesCatalog.c88f30c0b4f31e29.js"],"communities_showcase.js":["vendors~icons.49f9a17f17fd1f2c.js","vendors.047c78daa8e27274.js","vendors~api.a809b349464c7bf4.js","vendors~vk.9a2209201c89cb3e.js","vendors~effector.2eb322c0f037ed29.js","vendors~reactUtils.dd53503a221e4dfc.js","vendors~runtime.cf0dbb82c6e8af09.js","vendors~draggable.cd0fad5369325634.js","vkcom-kit.3189a03dc9c9b49d.css","vkcom-kit.f99ac18cf57bbe7e.js","b-1ef0d0676d7b2451.cf7e3867b0e74916.js","b-16c89e7a8ff40d79.d1d881e5055a9ba8.js","b-92f8de7599544c7e.e1c4d8558f451c20.js","b-97f4d72085033cd4.5f00c36692545f26.css","b-97f4d72085033cd4.09c5e8646da4aebe.js","b-8b1b72206d6aec17.bd5f063574ff75bc.js","b-a8fe2461fb0c2b76.7d42f8c978cd053b.js","b-c9e68753f5a220c9.3026b26f1ce82ca4.js","communities_showcase.6bcba2fd17484387.css","communities_showcase.67706b2b48ee177a.js"],"connect.js":["vendors.047c78daa8e27274.js","vendors~vk.9a2209201c89cb3e.js","connect.4fbd85549bf12438.js"],"cookie_banner.js":["cookie_banner.537726e8a36a091c.js"],"crowdsource.js":["vkcom-kit.3189a03dc9c9b49d.css","vkcom-kit.f99ac18cf57bbe7e.js","crowdsource.2ba12158194d2610.css","crowdsource.76ca449793a63dd8.js"],"easter_eggs.js":["easter_eggs.b372390690925d94.js"],"ecomm_admin_tips.js":["vendors~effector.2eb322c0f037ed29.js","vkcom-kit.3189a03dc9c9b49d.css","vkcom-kit.f99ac18cf57bbe7e.js","ecomm_admin_tips.e19a72f5a4a169d8.css","ecomm_admin_tips.90463c82f2189772.js"],"ecomm_community_reviews.js":["vendors~icons.49f9a17f17fd1f2c.js","vendors~reactUtils.dd53503a221e4dfc.js","vkcom-kit.3189a03dc9c9b49d.css","vkcom-kit.f99ac18cf57bbe7e.js","ecomm_community_reviews.72601ccb62060c9a.css","ecomm_community_reviews.e8066ffac2c83078.js"],"ecomm_market_catalog.js":["vendors~icons.49f9a17f17fd1f2c.js","vendors.047c78daa8e27274.js","vendors~api.a809b349464c7bf4.js","vendors~vk.9a2209201c89cb3e.js","vendors~vkjs.49a5f0897f7c41c1.js","vendors~effector.2eb322c0f037ed29.js","vendors~reactUtils.dd53503a221e4dfc.js","vendors~runtime.cf0dbb82c6e8af09.js","vendors~videoplayer.7e55282d8ef56a51.js","vendors~videoplayer-interactive.b8e78e51655a3c27.js","vendors~draggable.cd0fad5369325634.js","vkcom-kit.3189a03dc9c9b49d.css","vkcom-kit.f99ac18cf57bbe7e.js","sticker-lib.ee5a14519bf1a7bd.css","sticker-lib.3c62abe4a5741ea7.js","b-1ef0d0676d7b2451.cf7e3867b0e74916.js","b-6803b10d60edcc9d.6a4af565cf6d9fd7.js","b-16c89e7a8ff40d79.d1d881e5055a9ba8.js","b-6d2ec0e7ba8bf6e1.1828582f5e9da6b0.js","b-361a2c9076267225.92225ea42e0c1635.js","b-35702cb2add627ef.69627592e67c975f.js","b-5fee1b48335624a7.73ab6554a4309642.js","b-92f8de7599544c7e.e1c4d8558f451c20.js","b-02bd501f17b042d3.b5c6bdc490d3de40.js","b-d4bcda35b4e97773.98b21f86af618e4c.js","b-9eeea73fbd6eef8d.ebfaa048018fd89a.js","b-97f4d72085033cd4.5f00c36692545f26.css","b-97f4d72085033cd4.09c5e8646da4aebe.js","b-6f551f6614c4a842.584e812d4e4be5e8.js","b-8b1b72206d6aec17.bd5f063574ff75bc.js","b-704950e9febbceb9.f5456cee14de6bb4.js","b-9d62d2e4091967c3.b136a9cf1aaa68a3.js","b-a8fe2461fb0c2b76.7d42f8c978cd053b.js","b-90b88eaffb4f4682.bd396ac5171e4d78.js","b-2766c6f8df990e3c.579222dcee4c3cea.js","b-c9e68753f5a220c9.3026b26f1ce82ca4.js","b-6ca1d90bf8b47d7e.8315088647b59cd3.js","b-a258a3fc1d5cf03d.e669d960075a6bb2.js","b-e16e174b197beda3.2ca6849af5b18df3.js","ecomm_market_catalog.96df291671addee3.css","ecomm_market_catalog.7dc5ad384de6f530.js"],"ecomm_market_item_buttons.js":["vendors~icons.49f9a17f17fd1f2c.js","vendors~api.a809b349464c7bf4.js","vkcom-kit.3189a03dc9c9b49d.css","vkcom-kit.f99ac18cf57bbe7e.js","b-1ef0d0676d7b2451.cf7e3867b0e74916.js","b-6803b10d60edcc9d.6a4af565cf6d9fd7.js","b-9660d0abc54026cc.7a56247fd8f9055a.js","ecomm_market_item_buttons.5a078c56ac0190de.css","ecomm_market_item_buttons.26fc08f3b357cddd.js"],"ecomm_market_item_comments.js":["vendors~icons.49f9a17f17fd1f2c.js","vkcom-kit.3189a03dc9c9b49d.css","vkcom-kit.f99ac18cf57bbe7e.js","sticker-lib.ee5a14519bf1a7bd.css","sticker-lib.3c62abe4a5741ea7.js","b-16c89e7a8ff40d79.d1d881e5055a9ba8.js","b-63ef4e158fcf748d.2352d49a86704984.js","b-0ac21f2b78b75a4c.bc68a4cc456a12d9.js","ecomm_market_item_comments.155bdc1c9f015fb5.css","ecomm_market_item_comments.3190d23c0b90a4ac.js"],"ecomm_market_item.js":["vendors~icons.49f9a17f17fd1f2c.js","vendors~api.a809b349464c7bf4.js","vkcom-kit.3189a03dc9c9b49d.css","vkcom-kit.f99ac18cf57bbe7e.js","sticker-lib.ee5a14519bf1a7bd.css","sticker-lib.3c62abe4a5741ea7.js","b-1ef0d0676d7b2451.cf7e3867b0e74916.js","b-6803b10d60edcc9d.6a4af565cf6d9fd7.js","b-16c89e7a8ff40d79.d1d881e5055a9ba8.js","b-63ef4e158fcf748d.2352d49a86704984.js","b-9660d0abc54026cc.7a56247fd8f9055a.js","b-0ac21f2b78b75a4c.bc68a4cc456a12d9.js","b-9c466f572816e8b3.64a4b53cb98e9309.js","ecomm_market_item.5633952e7b40ae95.css","ecomm_market_item.935c178bc5219f4c.js"],"ecosystem_profile.js":["ecosystem_profile.c856791142721279.js"],"feed_achievement_game_block.js":["feed_achievement_game_block.17f3ef36306a28fd.js"],"feed_animated_block.js":["feed_animated_block.637c86338c1de913.css","feed_animated_block.c73629ed338b5432.js"],"feed_block_apps_recommendation.js":["vendors~icons.49f9a17f17fd1f2c.js","vendors~reactUtils.dd53503a221e4dfc.js","vkcom-kit.3189a03dc9c9b49d.css","vkcom-kit.f99ac18cf57bbe7e.js","b-afda04acd51726d1.6fa8d0e670489c5a.js","feed_block_apps_recommendation.7243851233c5c8d3.js"],"feed_block_recommended_groups.js":["vendors~icons.49f9a17f17fd1f2c.js","vendors~effector.2eb322c0f037ed29.js","vendors~reactUtils.dd53503a221e4dfc.js","vkcom-kit.3189a03dc9c9b49d.css","vkcom-kit.f99ac18cf57bbe7e.js","b-afda04acd51726d1.6fa8d0e670489c5a.js","feed_block_recommended_groups.10b39f5f6b4c078d.js"],"feed_hide_post_block.js":["vendors~icons.49f9a17f17fd1f2c.js","vkcom-kit.3189a03dc9c9b49d.css","vkcom-kit.f99ac18cf57bbe7e.js","feed_hide_post_block.477cb3f7f535de44.css","feed_hide_post_block.a37c781b8514d441.js"],"feed_stories_block.js":["vendors~icons.49f9a17f17fd1f2c.js","vendors.047c78daa8e27274.js","vendors~api.a809b349464c7bf4.js","vendors~videoplayer.7e55282d8ef56a51.js","vendors~videoplayer-interactive.b8e78e51655a3c27.js","vkcom-kit.3189a03dc9c9b49d.css","vkcom-kit.f99ac18cf57bbe7e.js","b-638e2f8354dcb561.5e5d06d137910bcd.js","b-41e6282feb734a1a.b8e0ee4b27add0d5.js","feed_stories_block.8477739c2c1e490b.css","feed_stories_block.99465ca30bc238ce.js"],"feed.js":["feed.0663b4ce327028a3.js"],"friends_catalog.js":["vendors~icons.49f9a17f17fd1f2c.js","vendors.047c78daa8e27274.js","vendors~api.a809b349464c7bf4.js","vendors~vk.9a2209201c89cb3e.js","vendors~effector.2eb322c0f037ed29.js","vendors~reactUtils.dd53503a221e4dfc.js","vendors~runtime.cf0dbb82c6e8af09.js","vendors~draggable.cd0fad5369325634.js","vkcom-kit.3189a03dc9c9b49d.css","vkcom-kit.f99ac18cf57bbe7e.js","b-1ef0d0676d7b2451.cf7e3867b0e74916.js","b-16c89e7a8ff40d79.d1d881e5055a9ba8.js","b-92f8de7599544c7e.e1c4d8558f451c20.js","b-97f4d72085033cd4.5f00c36692545f26.css","b-97f4d72085033cd4.09c5e8646da4aebe.js","b-8b1b72206d6aec17.bd5f063574ff75bc.js","b-a8fe2461fb0c2b76.7d42f8c978cd053b.js","b-c9e68753f5a220c9.3026b26f1ce82ca4.js","friends_catalog.6bcba2fd17484387.css","friends_catalog.9eeaf660e06721c5.js","FriendsCatalog.86ddd1acb9d871b9.js"],"friends.js":["vendors~icons.49f9a17f17fd1f2c.js","vendors~api.a809b349464c7bf4.js","vkcom-kit.3189a03dc9c9b49d.css","vkcom-kit.f99ac18cf57bbe7e.js","friends.680afee3ad07eb63.css","friends.2e7559744789040e.js"],"game_install_screen.js":["vendors.047c78daa8e27274.js","vendors~vk.9a2209201c89cb3e.js","vendors~vkjs.49a5f0897f7c41c1.js","vendors~effector.2eb322c0f037ed29.js","vendors~onlyReact.6e168b851c3b360c.js","nav.8f0dd3513ab5a094.js","icons~2949c66bf4a49270.a2ce3ec6916b63c8.js","b-11dda9cf723a601b.d2815b1b445771b2.js","game_install_screen.87dc26f62eabcbcf.js"],"games_pwa.js":["vendors~icons.49f9a17f17fd1f2c.js","games_pwa.9e8223f0823b43bd.js"],"grip.js":["grip.4e942ace704e2509.js"],"group_inactive_feed.js":["vkcom-kit.3189a03dc9c9b49d.css","vkcom-kit.f99ac18cf57bbe7e.js","group_inactive_feed.45682097c60b775c.css","group_inactive_feed.8c3a9350f0fec5fb.js"],"group_members_catalog.js":["vendors~icons.49f9a17f17fd1f2c.js","vendors.047c78daa8e27274.js","vendors~api.a809b349464c7bf4.js","vendors~vk.9a2209201c89cb3e.js","vendors~effector.2eb322c0f037ed29.js","vendors~reactUtils.dd53503a221e4dfc.js","vendors~runtime.cf0dbb82c6e8af09.js","vendors~draggable.cd0fad5369325634.js","vkcom-kit.3189a03dc9c9b49d.css","vkcom-kit.f99ac18cf57bbe7e.js","b-1ef0d0676d7b2451.cf7e3867b0e74916.js","b-16c89e7a8ff40d79.d1d881e5055a9ba8.js","b-92f8de7599544c7e.e1c4d8558f451c20.js","b-97f4d72085033cd4.5f00c36692545f26.css","b-97f4d72085033cd4.09c5e8646da4aebe.js","b-8b1b72206d6aec17.bd5f063574ff75bc.js","b-a8fe2461fb0c2b76.7d42f8c978cd053b.js","b-c9e68753f5a220c9.3026b26f1ce82ca4.js","group_members_catalog.6bcba2fd17484387.css","group_members_catalog.bcf1a68f2fc3d306.js","CommunitiesMembersCatalog.b98ba772787c5808.js"],"group_redesign_name_history.js":["vendors~icons.49f9a17f17fd1f2c.js","vkcom-kit.3189a03dc9c9b49d.css","vkcom-kit.f99ac18cf57bbe7e.js","b-989bc2e2c2b73416.0db7a415149f6701.js","group_redesign_name_history.8f0f63be9bfc552d.css","group_redesign_name_history.9dfd4b99135dcd25.js"],"group_redesign.js":["vendors~icons.49f9a17f17fd1f2c.js","vendors.047c78daa8e27274.js","vendors~api.a809b349464c7bf4.js","vendors~vkjs.49a5f0897f7c41c1.js","vendors~effector.2eb322c0f037ed29.js","vendors~framer-motion.d511caeb7221ebaf.js","vkcom-kit.3189a03dc9c9b49d.css","vkcom-kit.f99ac18cf57bbe7e.js","b-1ef0d0676d7b2451.cf7e3867b0e74916.js","b-6803b10d60edcc9d.6a4af565cf6d9fd7.js","b-83a2489330333558.f66a9f3bcd5d1e3f.js","b-989bc2e2c2b73416.0db7a415149f6701.js","b-5e96835345193dcc.aa77c1cb372d41ae.js","b-e0cd8f76dfdb6939.0a6d0017fb7efbd4.js","group_redesign.4d0911d2422223e1.css","group_redesign.5e74f77120e2f1c1.js"],"groups_catalog.js":["groups_catalog.5ec03a1c304e64a1.js"],"join_avatar.js":["vendors~icons.49f9a17f17fd1f2c.js","vkcom-kit.3189a03dc9c9b49d.css","vkcom-kit.f99ac18cf57bbe7e.js","join_avatar.6d63f1d5525d3115.css","join_avatar.7d3390658f1441b8.js"],"join_email_check.js":["join_email_check.98762679953a66ef.js"],"join.js":["vkcom-kit.3189a03dc9c9b49d.css","vkcom-kit.f99ac18cf57bbe7e.js","join.b99eea6754121526.css","join.9a70bc670e943a9e.js"],"mail_tooltips.js":["mail_tooltips.9cd5e0a5922a8040.js"],"mail.js":["b-c598f686d1311f2c.1aa1b4789a73a5a3.js","mail.b7d3551693324655.js"],"market_analytics.js":["market_analytics.1b24c6e3dfd78555.js"],"market.js":["market.8dd08b8832c343fa.js"],"mini_apps_catalog_search.js":["mini_apps_catalog_search.98b7ac009ea96a25.js"],"mini_apps_catalog.js":["mini_apps_catalog.550d4f877a4e6c95.js","MiniAppsCatalog.d8088cf570a4e047.js"],"mini_apps_left_menu_tooltip.js":["mini_apps_left_menu_tooltip.7145ded31d1f7e0a.js"],"mini_apps_recommended_carousel_async.js":["mini_apps_recommended_carousel_async.b892ebb845c54d5e.js"],"mini_apps_recommended_carousel.js":["mini_apps_recommended_carousel.9c940fbce82d88f1.js"],"mini_apps.js":["vendors~icons.49f9a17f17fd1f2c.js","vendors.047c78daa8e27274.js","vendors~api.a809b349464c7bf4.js","vendors~vk.9a2209201c89cb3e.js","vendors~vkjs.49a5f0897f7c41c1.js","vkcom-kit.3189a03dc9c9b49d.css","vkcom-kit.f99ac18cf57bbe7e.js","b-1cce22aaa1fa62d0.bfd859b332810f2a.js","b-ec823887ab5b28be.33571401bf59152b.js","b-3578c8a6ebff7084.e1bdde655527cced.js","b-508d7151b9c20592.841593c22e43cbd9.js","b-7d8d677ac02d3142.6103eebb9a5d2570.js","b-1c6435a70a0abcea.1680fb926edbe31c.js","b-78c25a0f4db5d7b9.22b5bfec0bb76c37.js","b-b4b8efc2c17ae681.30d0767a9d4a07a4.js","mini_apps.445a9a025f7c6fec.css","mini_apps.079feb92d15b2cee.js","MiniAppService_MiniApp.bc29e014fef08336.js"],"miniapps_orders_history.js":["miniapps_orders_history.c1b2db92537e49e9.js"],"money_transfer_history.js":["money_transfer_history.162c211295034446.js"],"narratives.js":["vendors.047c78daa8e27274.js","vendors~api.a809b349464c7bf4.js","vendors~videoplayer.7e55282d8ef56a51.js","vendors~videoplayer-interactive.b8e78e51655a3c27.js","vendors~draggable.cd0fad5369325634.js","vendors~cropperjs.57a80a6033385b08.js","b-638e2f8354dcb561.5e5d06d137910bcd.js","b-c2cc1ff30a44034b.f5d1e69027bc1f85.js","b-7da8e23a2dc9cbd0.40ab85ae26b6f366.js","b-5af33361aa676523.b7cc2aa1a0c72b0d.js","narratives.029d07c4ca61b83b.js"],"node_ssr.js":["vkcom-kit.3189a03dc9c9b49d.css","vkcom-kit.f99ac18cf57bbe7e.js","node_ssr.e96f21601334bf2d.js"],"onboarding_screen_download_app.js":["onboarding_screen_download_app.899a0d9601da073c.js"],"onboarding_screen_recom_themes.js":["vendors~icons.49f9a17f17fd1f2c.js","vkcom-kit.3189a03dc9c9b49d.css","vkcom-kit.f99ac18cf57bbe7e.js","onboarding_screen_recom_themes.1982fe1ddfa6cd4c.css","onboarding_screen_recom_themes.016acf7b951a2cad.js"],"openapi.js":["openapi.38c9ecb5fc7e98d3.js"],"owner_cover_upload.js":["vendors~icons.49f9a17f17fd1f2c.js","vendors~vkjs.49a5f0897f7c41c1.js","vkcom-kit.3189a03dc9c9b49d.css","vkcom-kit.f99ac18cf57bbe7e.js","b-1548998fac9da944.732d2250a4b593a9.js","b-ec6a48eb447da036.2a05f24a8ccd70c9.js","b-89c1d48df95ee333.88c6e3bdf78000fc.js","owner_cover_upload.0e97a9243732453a.css","owner_cover_upload.60090aa6af96d40e.js"],"owner_photo_upload.js":["vendors~icons.49f9a17f17fd1f2c.js","vendors.047c78daa8e27274.js","vendors~api.a809b349464c7bf4.js","vendors~vk.9a2209201c89cb3e.js","vendors~vkjs.49a5f0897f7c41c1.js","vkcom-kit.3189a03dc9c9b49d.css","vkcom-kit.f99ac18cf57bbe7e.js","b-1cce22aaa1fa62d0.bfd859b332810f2a.js","b-ec823887ab5b28be.33571401bf59152b.js","b-3578c8a6ebff7084.e1bdde655527cced.js","b-508d7151b9c20592.841593c22e43cbd9.js","owner_photo_upload.4adc10fe4854a3c5.css","owner_photo_upload.200ca77f06d04ae2.js","MiniAppService_MiniApp.bc29e014fef08336.js"],"page_bottom_banners.js":["b-6803b10d60edcc9d.6a4af565cf6d9fd7.js","page_bottom_banners.f45c6fef5103ba62.js"],"payments.js":["payments.0fed399879bee1b0.js"],"performance_observers.js":["performance_observers.1992e6eb28169174.js"],"photo_stream.js":["vendors.047c78daa8e27274.js","vendors~vk.9a2209201c89cb3e.js","vendors~runtime.cf0dbb82c6e8af09.js","photo_stream.044675060eda446b.js"],"photo.js":["vendors~icons.49f9a17f17fd1f2c.js","vkcom-kit.3189a03dc9c9b49d.css","vkcom-kit.f99ac18cf57bbe7e.js","b-6803b10d60edcc9d.6a4af565cf6d9fd7.js","photo.4be69be29a944722.css","photo.bf3736c4ab537763.js"],"photoview.js":["photoview.4fd7fa5f55d16f87.js"],"polyfills.js":["runtime.71220519660788c0.js","vendors.047c78daa8e27274.js","vendors~sentry.34cf090fc00f043b.js","b-493df50a7f19a0a2.5c7f391e59091fc4.js","polyfills.967b9a7ef549f937.js"],"post_attachments_block.isolated.js":["vendors~icons.49f9a17f17fd1f2c.js","vendors.047c78daa8e27274.js","vendors~api.a809b349464c7bf4.js","vendors~vk.9a2209201c89cb3e.js","vendors~vkjs.49a5f0897f7c41c1.js","vendors~effector.2eb322c0f037ed29.js","vendors~runtime.cf0dbb82c6e8af09.js","vendors~videoplayer.7e55282d8ef56a51.js","vendors~videoplayer-interactive.b8e78e51655a3c27.js","vendors~draggable.cd0fad5369325634.js","vendors~vkui.d1d7afae67ef60a9.js","vendors~onlyReact.6e168b851c3b360c.js","nav.8f0dd3513ab5a094.js","vkcom-kit.3189a03dc9c9b49d.css","vkcom-kit.f99ac18cf57bbe7e.js","icons~2949c66bf4a49270.a2ce3ec6916b63c8.js","post_attachments_block.isolated.c1b7909627344e60.css","post_attachments_block.isolated.cfb1fdd019a2cf60.js"],"post_attachments_block.js":["vendors~icons.49f9a17f17fd1f2c.js","vendors.047c78daa8e27274.js","vendors~api.a809b349464c7bf4.js","vendors~videoplayer.7e55282d8ef56a51.js","vendors~videoplayer-interactive.b8e78e51655a3c27.js","vendors~draggable.cd0fad5369325634.js","vkcom-kit.3189a03dc9c9b49d.css","vkcom-kit.f99ac18cf57bbe7e.js","b-1ef0d0676d7b2451.cf7e3867b0e74916.js","b-6d2ec0e7ba8bf6e1.1828582f5e9da6b0.js","b-361a2c9076267225.92225ea42e0c1635.js","b-35702cb2add627ef.69627592e67c975f.js","b-5fee1b48335624a7.73ab6554a4309642.js","b-02bd501f17b042d3.b5c6bdc490d3de40.js","b-d4bcda35b4e97773.98b21f86af618e4c.js","b-9eeea73fbd6eef8d.ebfaa048018fd89a.js","b-6f551f6614c4a842.584e812d4e4be5e8.js","b-83a2489330333558.f66a9f3bcd5d1e3f.js","b-5c3c8cecd2d16a7e.875f6f12d0cf1999.js","post_attachments_block.0fb4e23ae85ea2aa.css","post_attachments_block.d27ccb5814c52fee.js"],"post_content_container.isolated.js":["vendors~icons.49f9a17f17fd1f2c.js","vendors.047c78daa8e27274.js","vendors~api.a809b349464c7bf4.js","vendors~vk.9a2209201c89cb3e.js","vendors~vkjs.49a5f0897f7c41c1.js","vendors~effector.2eb322c0f037ed29.js","vendors~runtime.cf0dbb82c6e8af09.js","vendors~videoplayer.7e55282d8ef56a51.js","vendors~videoplayer-interactive.b8e78e51655a3c27.js","vendors~draggable.cd0fad5369325634.js","vendors~vkui.d1d7afae67ef60a9.js","vendors~onlyReact.6e168b851c3b360c.js","nav.8f0dd3513ab5a094.js","vkcom-kit.3189a03dc9c9b49d.css","vkcom-kit.f99ac18cf57bbe7e.js","icons~2949c66bf4a49270.a2ce3ec6916b63c8.js","post_content_container.isolated.0b9dc21cd57d3315.css","post_content_container.isolated.2326152ec4373ba3.js"],"post_content_container.js":["vendors~icons.49f9a17f17fd1f2c.js","vendors.047c78daa8e27274.js","vendors~api.a809b349464c7bf4.js","vendors~vk.9a2209201c89cb3e.js","vendors~videoplayer.7e55282d8ef56a51.js","vendors~videoplayer-interactive.b8e78e51655a3c27.js","vendors~draggable.cd0fad5369325634.js","vkcom-kit.3189a03dc9c9b49d.css","vkcom-kit.f99ac18cf57bbe7e.js","b-1ef0d0676d7b2451.cf7e3867b0e74916.js","b-6d2ec0e7ba8bf6e1.1828582f5e9da6b0.js","b-361a2c9076267225.92225ea42e0c1635.js","b-35702cb2add627ef.69627592e67c975f.js","b-5fee1b48335624a7.73ab6554a4309642.js","b-02bd501f17b042d3.b5c6bdc490d3de40.js","b-d4bcda35b4e97773.98b21f86af618e4c.js","b-9eeea73fbd6eef8d.ebfaa048018fd89a.js","b-6f551f6614c4a842.584e812d4e4be5e8.js","b-90b88eaffb4f4682.bd396ac5171e4d78.js","b-83a2489330333558.f66a9f3bcd5d1e3f.js","b-5c3c8cecd2d16a7e.875f6f12d0cf1999.js","b-f0c5415302d53ba5.f0a6165cfc278815.js","post_content_container.aa5991b30d31761b.css","post_content_container.1a39bfc6df8477d8.js"],"post_context_menu.js":["post_context_menu.e1ea5bbc2283f16a.js"],"post_header.js":["vendors~icons.49f9a17f17fd1f2c.js","vkcom-kit.3189a03dc9c9b49d.css","vkcom-kit.f99ac18cf57bbe7e.js","post_header.f0b276ab669c2648.css","post_header.00ce53daa1a33c74.js"],"post_stats_pixel.js":["post_stats_pixel.269ec29ca1f3b0c5.js"],"post_translation.js":["vendors~icons.49f9a17f17fd1f2c.js","post_translation.efd84c1a4dce985f.js"],"posting_draft.js":["vendors.047c78daa8e27274.js","posting_draft.89fb95992657d20c.js"],"posting_hashtags.js":["posting_hashtags.b0b30360a440988c.js"],"posting_redesign.js":["vendors~api.a809b349464c7bf4.js","vkcom-kit.3189a03dc9c9b49d.css","vkcom-kit.f99ac18cf57bbe7e.js","b-f97909ff2569c08c.65cad525425bedd7.js","posting_redesign.24de11b4d32aba19.js"],"primary_attachment_album.js":["vendors~icons.49f9a17f17fd1f2c.js","vkcom-kit.3189a03dc9c9b49d.css","vkcom-kit.f99ac18cf57bbe7e.js","primary_attachment_album.6a8adfa7b195bdb1.js"],"primary_attachment_article.js":["vendors~icons.49f9a17f17fd1f2c.js","vkcom-kit.3189a03dc9c9b49d.css","vkcom-kit.f99ac18cf57bbe7e.js","primary_attachment_article.fc92c6eb0f9744d9.js"],"primary_attachment_audio.js":["vendors~icons.49f9a17f17fd1f2c.js","vkcom-kit.3189a03dc9c9b49d.css","vkcom-kit.f99ac18cf57bbe7e.js","b-6d2ec0e7ba8bf6e1.1828582f5e9da6b0.js","b-5fee1b48335624a7.73ab6554a4309642.js","primary_attachment_audio.d4bf646c995b5f3f.css","primary_attachment_audio.6af8f1211bf1341f.js"],"primary_attachment_link.js":["vendors~icons.49f9a17f17fd1f2c.js","vkcom-kit.3189a03dc9c9b49d.css","vkcom-kit.f99ac18cf57bbe7e.js","primary_attachment_link.2ce5e21af4edf92e.js"],"primary_attachment_poll.js":["vendors~icons.49f9a17f17fd1f2c.js","vkcom-kit.3189a03dc9c9b49d.css","vkcom-kit.f99ac18cf57bbe7e.js","b-6d2ec0e7ba8bf6e1.1828582f5e9da6b0.js","b-5fee1b48335624a7.73ab6554a4309642.js","b-d4bcda35b4e97773.98b21f86af618e4c.js","primary_attachment_poll.e7e0541e83441e55.css","primary_attachment_poll.555532f464626ddd.js"],"profile_edit.js":["vendors~icons.49f9a17f17fd1f2c.js","vendors~api.a809b349464c7bf4.js","vendors~effector.2eb322c0f037ed29.js","vkcom-kit.3189a03dc9c9b49d.css","vkcom-kit.f99ac18cf57bbe7e.js","b-6803b10d60edcc9d.6a4af565cf6d9fd7.js","b-16c89e7a8ff40d79.d1d881e5055a9ba8.js","b-1548998fac9da944.732d2250a4b593a9.js","b-ec6a48eb447da036.2a05f24a8ccd70c9.js","b-89c1d48df95ee333.88c6e3bdf78000fc.js","b-a927b5d31330f742.e4969ef3e4e9d322.js","profile_edit.3857af5b07901f9a.css","profile_edit.5dcdf5110baf5c38.js"],"profile_redesign.js":["vendors~icons.49f9a17f17fd1f2c.js","vendors.047c78daa8e27274.js","vendors~api.a809b349464c7bf4.js","vendors~vk.9a2209201c89cb3e.js","vendors~vkjs.49a5f0897f7c41c1.js","vendors~effector.2eb322c0f037ed29.js","vendors~reactUtils.dd53503a221e4dfc.js","vendors~runtime.cf0dbb82c6e8af09.js","vendors~videoplayer.7e55282d8ef56a51.js","vendors~videoplayer-interactive.b8e78e51655a3c27.js","vendors~draggable.cd0fad5369325634.js","vendors~framer-motion.d511caeb7221ebaf.js","vkcom-kit.3189a03dc9c9b49d.css","vkcom-kit.f99ac18cf57bbe7e.js","sticker-lib.ee5a14519bf1a7bd.css","sticker-lib.3c62abe4a5741ea7.js","b-1ef0d0676d7b2451.cf7e3867b0e74916.js","b-6803b10d60edcc9d.6a4af565cf6d9fd7.js","b-16c89e7a8ff40d79.d1d881e5055a9ba8.js","b-6d2ec0e7ba8bf6e1.1828582f5e9da6b0.js","b-361a2c9076267225.92225ea42e0c1635.js","b-35702cb2add627ef.69627592e67c975f.js","b-5fee1b48335624a7.73ab6554a4309642.js","b-92f8de7599544c7e.e1c4d8558f451c20.js","b-02bd501f17b042d3.b5c6bdc490d3de40.js","b-d4bcda35b4e97773.98b21f86af618e4c.js","b-9eeea73fbd6eef8d.ebfaa048018fd89a.js","b-97f4d72085033cd4.5f00c36692545f26.css","b-97f4d72085033cd4.09c5e8646da4aebe.js","b-6f551f6614c4a842.584e812d4e4be5e8.js","b-8b1b72206d6aec17.bd5f063574ff75bc.js","b-704950e9febbceb9.f5456cee14de6bb4.js","b-9d62d2e4091967c3.b136a9cf1aaa68a3.js","b-a8fe2461fb0c2b76.7d42f8c978cd053b.js","b-90b88eaffb4f4682.bd396ac5171e4d78.js","b-2766c6f8df990e3c.579222dcee4c3cea.js","b-c9e68753f5a220c9.3026b26f1ce82ca4.js","b-6ca1d90bf8b47d7e.8315088647b59cd3.js","b-a258a3fc1d5cf03d.e669d960075a6bb2.js","b-83a2489330333558.f66a9f3bcd5d1e3f.js","b-77afd8b1f4d00987.8738497c2df271be.js","b-2f4b0452a25dda11.9072e401071a83e7.js","b-31b3b7772598a584.6ba2912a96fa6b90.js","b-1548998fac9da944.732d2250a4b593a9.js","b-b131cc1f4f7e3042.7e493f433cad699d.js","b-afda04acd51726d1.6fa8d0e670489c5a.js","b-525ccc8a6e34a241.b28b32df6f48fbd0.js","b-fdadc2da31186b13.b2d2679fb5bd59c9.js","b-119c7c591f6531eb.8ac06c2a40b52034.js","b-66c0f033c78decc3.829b552bffcc6ed8.js","b-ec6a48eb447da036.2a05f24a8ccd70c9.js","b-89c1d48df95ee333.88c6e3bdf78000fc.js","b-440d7d051fc51d2d.6fdc62c52e676e58.css","b-440d7d051fc51d2d.91e9f75eda408fb4.js","b-1534128c3b504fd6.e7a75838ef09d7b2.js","b-e4587b7712a16563.af80421b420cf127.js","b-0ca092c87fc67235.58d0405406fca163.js","b-a927b5d31330f742.e4969ef3e4e9d322.js","b-e5cbede154fb295d.3141e6733ee015a5.js","profile_redesign.984ddf964de0360b.css","profile_redesign.8148d64a3b6d506c.js"],"profile.js":["profile.1f7522ab0dd45cab.js"],"promocode_partners.js":["promocode_partners.145b5e4c85a95d7f.js"],"promocode.js":["promocode.8869dfd12d01510a.js"],"pwa.js":["pwa.f7136e851f323090.js"],"qrcode.js":["qrcode.805c1af803b57c1f.js"],"reactions.js":["reactions.93871e03df16c2b8.js"],"redesign_wall_post.js":["redesign_wall_post.ff318a365958a6a5.js"],"redirect_screen.js":["redirect_screen.4adb0e0ccb13e6b7.js"],"sak_unauthorized.js":["sak_unauthorized.caa199c49aaeb9bc.js"],"sentry.js":["vendors~sentry.34cf090fc00f043b.js","vendors~eventemitter.e34565a004092b5b.js","b-eddde02b452bb196.ddc62f7cd81c72a6.js","sentry.761df96824fbda30.js"],"settings.js":["settings.00e650d9aae6a241.js"],"short_video.js":["short_video.9ff488ca214b324e.js"],"showcase_menu.js":["showcase_menu.3f67429cf70af566.js","ShowcaseMenu.2eea1ee5f44d2f61.js"],"stickers.js":["stickers.b65f6285ddce8113.js"],"stories_archive.js":["vendors.047c78daa8e27274.js","vendors~api.a809b349464c7bf4.js","vendors~videoplayer.7e55282d8ef56a51.js","vendors~videoplayer-interactive.b8e78e51655a3c27.js","b-638e2f8354dcb561.5e5d06d137910bcd.js","b-5af33361aa676523.b7cc2aa1a0c72b0d.js","stories_archive.a2e426b02d999287.js"],"stories_feed_block.js":["vendors~icons.49f9a17f17fd1f2c.js","vkcom-kit.3189a03dc9c9b49d.css","vkcom-kit.f99ac18cf57bbe7e.js","b-41e6282feb734a1a.b8e0ee4b27add0d5.js","stories_feed_block.fe52535bb483348a.js"],"stories.js":["vendors~icons.49f9a17f17fd1f2c.js","vendors.047c78daa8e27274.js","vendors~api.a809b349464c7bf4.js","vendors~videoplayer.7e55282d8ef56a51.js","vendors~videoplayer-interactive.b8e78e51655a3c27.js","vkcom-kit.3189a03dc9c9b49d.css","vkcom-kit.f99ac18cf57bbe7e.js","b-638e2f8354dcb561.5e5d06d137910bcd.js","b-41e6282feb734a1a.b8e0ee4b27add0d5.js","stories.1415966274682e0e.css","stories.efb2d02d2bbebc06.js"],"superapp.js":["superapp.2bf58133ab0becc7.js"],"textlives.js":["textlives.50e82ba228681f60.js"],"thumbs_edit.js":["b-a8810cf975fce57b.803662a362a09b83.js","thumbs_edit.3e59075edf9ae63a.js"],"tracer.js":["vendors~sentry.34cf090fc00f043b.js","tracer.74a8c1edd047dad1.js"],"ugc_sticker.js":["ugc_sticker.6db8ef1226c181ab.js"],"unauthorized_search.js":["unauthorized_search.fc02196706525f3d.js"],"unauthorized.js":["b-6803b10d60edcc9d.6a4af565cf6d9fd7.js","unauthorized.76d39e33ea7bc999.js"],"unban_recommendation.js":["vendors~icons.49f9a17f17fd1f2c.js","vkcom-kit.3189a03dc9c9b49d.css","vkcom-kit.f99ac18cf57bbe7e.js","unban_recommendation.a44bf71756298b78.css","unban_recommendation.7a406b1585657172.js"],"uxpolls.js":["b-2f4b0452a25dda11.9072e401071a83e7.js","uxpolls.d896ef021986a148.js"],"video_showcase.js":["b-16c89e7a8ff40d79.d1d881e5055a9ba8.js","b-92f8de7599544c7e.e1c4d8558f451c20.js","b-c9e68753f5a220c9.3026b26f1ce82ca4.js","video_showcase.b8349d332e1e0bb6.js","VideoShowcasePage.4209bb067a5e5915.js"],"video.js":["vendors.047c78daa8e27274.js","vendors~api.a809b349464c7bf4.js","vendors~vk.9a2209201c89cb3e.js","vendors~vkjs.49a5f0897f7c41c1.js","vendors~videoplayer.7e55282d8ef56a51.js","vendors~videoplayer-interactive.b8e78e51655a3c27.js","b-16c89e7a8ff40d79.d1d881e5055a9ba8.js","b-92f8de7599544c7e.e1c4d8558f451c20.js","b-77afd8b1f4d00987.8738497c2df271be.js","b-2280af59a5339148.9876896304d37d08.js","b-6f2ce22349fec8b4.b9bbff3c3b07a13c.js","video.d2e1e0c96b6fda07.js"],"vk_sans_observer.js":["vk_sans_observer.6ee7d92128f51125.js"],"vkapps.js":["vendors~icons.49f9a17f17fd1f2c.js","vendors.047c78daa8e27274.js","vendors~api.a809b349464c7bf4.js","vendors~vk.9a2209201c89cb3e.js","vendors~vkjs.49a5f0897f7c41c1.js","vendors~effector.2eb322c0f037ed29.js","vendors~runtime.cf0dbb82c6e8af09.js","vendors~vkui.d1d7afae67ef60a9.js","vendors~onlyReact.6e168b851c3b360c.js","vendors~qr.0cece557c2d7d5f9.js","nav.8f0dd3513ab5a094.js","vkcom-kit.3189a03dc9c9b49d.css","vkcom-kit.f99ac18cf57bbe7e.js","b-1cce22aaa1fa62d0.bfd859b332810f2a.js","b-ec823887ab5b28be.33571401bf59152b.js","b-3578c8a6ebff7084.e1bdde655527cced.js","b-508d7151b9c20592.841593c22e43cbd9.js","b-7d8d677ac02d3142.6103eebb9a5d2570.js","icons~2949c66bf4a49270.a2ce3ec6916b63c8.js","b-91e9b4f2208acd17.982d35e1db959e6e.js","b-070070c041cea63f.94866770352d3a4c.js","b-11dda9cf723a601b.d2815b1b445771b2.js","b-aecc3a00ca8e9bca.a105ddccbe2e662f.js","b-016dae3d4da9b073.5c4ff37f8d62058b.js","b-aab2b5a41c88c033.835f6b2bd5510323.js","b-78c25a0f4db5d7b9.22b5bfec0bb76c37.js","b-09e91eb4bf799b32.2a0fd57c3624b1ba.js","vkapps.6cf42918aab5363c.css","vkapps.4e216695debcb9d0.js","MiniAppService_MiniApp.bc29e014fef08336.js"],"vkui_playground.js":["vendors.047c78daa8e27274.js","vendors~vk.9a2209201c89cb3e.js","vendors~runtime.cf0dbb82c6e8af09.js","vkcom-kit.3189a03dc9c9b49d.css","vkcom-kit.f99ac18cf57bbe7e.js","vkui_playground.8d74081a66af9b97.js"],"wall_posting.js":["b-fd9e30d2547bb460.99c159d035c28241.js","wall_posting.824c2a8454899f4e.js"],"wall_view_stats.js":["wall_view_stats.33cb8ef44e031a57.js"],"wall.js":["vendors~icons.49f9a17f17fd1f2c.js","vendors.047c78daa8e27274.js","vendors~api.a809b349464c7bf4.js","vendors~vk.9a2209201c89cb3e.js","vendors~vkjs.49a5f0897f7c41c1.js","vendors~runtime.cf0dbb82c6e8af09.js","vendors~videoplayer.7e55282d8ef56a51.js","vendors~videoplayer-interactive.b8e78e51655a3c27.js","vkcom-kit.3189a03dc9c9b49d.css","vkcom-kit.f99ac18cf57bbe7e.js","b-1ef0d0676d7b2451.cf7e3867b0e74916.js","b-16c89e7a8ff40d79.d1d881e5055a9ba8.js","b-6d2ec0e7ba8bf6e1.1828582f5e9da6b0.js","b-361a2c9076267225.92225ea42e0c1635.js","b-35702cb2add627ef.69627592e67c975f.js","b-5fee1b48335624a7.73ab6554a4309642.js","b-1cce22aaa1fa62d0.bfd859b332810f2a.js","b-ec823887ab5b28be.33571401bf59152b.js","b-3578c8a6ebff7084.e1bdde655527cced.js","b-508d7151b9c20592.841593c22e43cbd9.js","b-7d8d677ac02d3142.6103eebb9a5d2570.js","b-1c6435a70a0abcea.1680fb926edbe31c.js","b-2f4b0452a25dda11.9072e401071a83e7.js","b-31b3b7772598a584.6ba2912a96fa6b90.js","b-f9b07d1fe1bb0135.91e245f208c2ff58.js","b-a70742fb3cb38f99.a1aa342d09e53b13.js","wall.d2f1309e4b79126d.css","wall.050ccf7353655fd0.js","MiniAppService_MiniApp.bc29e014fef08336.js"],"window_proxy.js":["vendors.047c78daa8e27274.js","vendors~vkjs.49a5f0897f7c41c1.js","vendors~eventemitter.e34565a004092b5b.js","b-eddde02b452bb196.ddc62f7cd81c72a6.js","b-ccefc682f38f859d.4eeea582fd367195.js","window_proxy.51d14e8231cabb21.js","apiInitializer.8a54fe20eb7f73ba.js"],"xss_playground.js":["xss_playground.e7484a36840a5391.js"],"yabro_debug.js":["yabro_debug.4410502a088a3579.js"]},"async_assets":{"apps_connect.js":["MiniAppService_MiniApp.bc29e014fef08336.js"],"apps_stub.js":["StoriesCreatorMVK.36633212c8ef99a4.js","mvk-logout-modal.971d738d021e46ff.js","a11y-logger.e12edd0db7e1d717.js","miniAppsActionHandlers.88a49ce9985b7070.js","plugins_maps_mmrgl_script_chunk.90d6edfaad7bd7b7.js","plugins_maps_mmrgl_style_chunk.b60fec81990a6fa0.js","hls.b1ae28b0212f58f5.js","AlbumUploadAdapter.3010db2243daef38.js","LeftMenu.d0f2b672ab09fda9.js"],"apps.js":["StoriesCreatorMVK.36633212c8ef99a4.js","mvk-logout-modal.971d738d021e46ff.js","a11y-logger.e12edd0db7e1d717.js","miniAppsActionHandlers.88a49ce9985b7070.js","plugins_maps_mmrgl_script_chunk.90d6edfaad7bd7b7.js","plugins_maps_mmrgl_style_chunk.b60fec81990a6fa0.js","hls.b1ae28b0212f58f5.js","AlbumUploadAdapter.3010db2243daef38.js","LeftMenu.d0f2b672ab09fda9.js","rlottie.5bf365e6d6d24a87.js","MiniAppService_MiniApp.bc29e014fef08336.js","MobileCallsBridge.e8bf5b806f9cbaa2.js","mvk-call_modal_chunk.c636a9ab90dbc73b.js"],"article_standalone.js":["StoriesCreatorMVK.36633212c8ef99a4.js","mvk-logout-modal.971d738d021e46ff.js","a11y-logger.e12edd0db7e1d717.js","miniAppsActionHandlers.88a49ce9985b7070.js","plugins_maps_mmrgl_script_chunk.90d6edfaad7bd7b7.js","plugins_maps_mmrgl_style_chunk.b60fec81990a6fa0.js","hls.b1ae28b0212f58f5.js","AlbumUploadAdapter.3010db2243daef38.js","LeftMenu.d0f2b672ab09fda9.js"],"audio_catalog.js":["AudioCatalog.bb5ec3fa857db260.js"],"audio.js":["hls.b1ae28b0212f58f5.js","DownloadedSection.08d7b4edff4436bf.js"],"bridge_modals.js":["IframeModal.a8a0af1f047435f6.js","ValidatePhoneIframeModal.df1855ffae58fc19.js","ShowImages.dc980977510ac564.js","GetAuthTokenModal.d0d2d748ecb934fb.js","JoinLeaveGroupModal.eb6962ff225cca9a.js","GetPhoneNumberConfirmModal.6ef69b5bddd0aa1b.js","GetEmailConfirmModal.0fd2b4c9e1074bbf.js","GetGroupInfoConfirmModal.4092b18e5e5f210a.js","SlidesSheetModal.a16321f72ceb1cae.js","AllowMessagesFromGroupModal.a0d416f5b40e3e88.js","AllowNotificationsModal.d6c896a89529fdf3.js","Alert.c50cc51f2c196732.js","AddToFavoritesConfirmModal.56af08cc60cbcaf5.js","GetFriendsModal.6d76d650011c5a8d.js"],"calls.js":["MobileCallsBridge.e8bf5b806f9cbaa2.js","mvk-call_modal_chunk.c636a9ab90dbc73b.js"],"chat_photo_upload.js":["thumbnail_creator.f6fc1c9ecf0bb760.js"],"common.js":["common-dynamic.fd4efafe33ef2088.js","global-spa.a8dcffc23bb95166.js","StoriesCreatorMVK.36633212c8ef99a4.js","mvk-logout-modal.971d738d021e46ff.js","a11y-logger.e12edd0db7e1d717.js","miniAppsActionHandlers.88a49ce9985b7070.js","plugins_maps_mmrgl_script_chunk.90d6edfaad7bd7b7.js","plugins_maps_mmrgl_style_chunk.b60fec81990a6fa0.js","hls.b1ae28b0212f58f5.js","AlbumUploadAdapter.3010db2243daef38.js","LeftMenu.d0f2b672ab09fda9.js","ObsceneTextAlertBox.61b78ce4a2c91a97.js","StickersKeyboard.b410998b8f7d502d.js","StickersHints.00f99b143b0e7d46.js","marusia-mvk-sdk.855eb3fa08d74abe.js","MediaView.cbb292c4746b83bd.js","rlottie.5bf365e6d6d24a87.js","CookieBannerModal.60c96e7c278b83f9.js","AddQuestion.5167a567592d5b16.js","ShowQuestionsBox.1b9ee53ccf6803e6.js","AddQuestionAnswerBox.8e91460fc0cd8081.js","StoriesCreatorMVKApp.f1dd2ee83dc81786.js"],"communities_catalog.js":["CommunitiesCatalog.c88f30c0b4f31e29.js"],"communities_showcase.js":["CommunitiesShowcase.ba064de9c96675a4.js"],"ecomm_market_catalog.js":["MobileCallsBridge.e8bf5b806f9cbaa2.js","mvk-call_modal_chunk.c636a9ab90dbc73b.js"],"ecomm_market_item_comments.js":["sticker.d2b35972bd4d0c91.js"],"ecomm_market_item.js":["sticker.d2b35972bd4d0c91.js"],"feed.js":["UploadModalStandalone.5070f65780803fb2.js","FeedAddContentMenuButton.d5072292639f1000.js"],"friends_catalog.js":["FriendsCatalog.86ddd1acb9d871b9.js"],"game_install_screen.js":["StoriesCreatorMVK.36633212c8ef99a4.js","mvk-logout-modal.971d738d021e46ff.js"],"grip.js":["grip-lib.8825b2d0dc7e2d7a.js"],"group_members_catalog.js":["CommunitiesMembersCatalog.b98ba772787c5808.js"],"group_redesign.js":["framer-motion-entrypoint.32f215de228d483d.js"],"mail.js":["audio_messages.5964d3a984b19f95.js"],"mini_apps_catalog.js":["MiniAppsCatalog.d8088cf570a4e047.js"],"mini_apps.js":["MiniAppService_MiniApp.bc29e014fef08336.js"],"miniapps_orders_history.js":["MiniappsOrdersHistory.9fec1168a5629085.js"],"narratives.js":["thumbnail_creator.f6fc1c9ecf0bb760.js"],"owner_cover_upload.js":["thumbnail_creator.f6fc1c9ecf0bb760.js"],"owner_photo_upload.js":["MiniAppService_MiniApp.bc29e014fef08336.js","thumbnail_creator.f6fc1c9ecf0bb760.js"],"photo_stream.js":["PhotoStream.b113c734af34e1b6.js"],"post_attachments_block.isolated.js":["StoriesCreatorMVK.36633212c8ef99a4.js","mvk-logout-modal.971d738d021e46ff.js","a11y-logger.e12edd0db7e1d717.js","miniAppsActionHandlers.88a49ce9985b7070.js","plugins_maps_mmrgl_script_chunk.90d6edfaad7bd7b7.js","plugins_maps_mmrgl_style_chunk.b60fec81990a6fa0.js","hls.b1ae28b0212f58f5.js","AlbumUploadAdapter.3010db2243daef38.js","LeftMenu.d0f2b672ab09fda9.js"],"post_content_container.isolated.js":["StoriesCreatorMVK.36633212c8ef99a4.js","mvk-logout-modal.971d738d021e46ff.js","a11y-logger.e12edd0db7e1d717.js","miniAppsActionHandlers.88a49ce9985b7070.js","plugins_maps_mmrgl_script_chunk.90d6edfaad7bd7b7.js","plugins_maps_mmrgl_style_chunk.b60fec81990a6fa0.js","hls.b1ae28b0212f58f5.js","AlbumUploadAdapter.3010db2243daef38.js","LeftMenu.d0f2b672ab09fda9.js"],"post_context_menu.js":["PostContextMenu.f85c935bf32161db.js"],"posting_hashtags.js":["PostingHashtags.9b32f1470ca39994.js"],"posting_redesign.js":["PostingRedesign.525b52323804fb5a.js"],"profile_redesign.js":["MobileCallsBridge.e8bf5b806f9cbaa2.js","mvk-call_modal_chunk.c636a9ab90dbc73b.js","hls.b1ae28b0212f58f5.js","framer-motion-entrypoint.32f215de228d483d.js","SelectPhotoContent.414c4de31f59d924.js","SelectVideoContent.9245f18fe92d2b0d.js","SelectAudioContent.f06d32cf7e02d709.js","SelectDocContent.7819d2a1374381c3.js","StickersKeyboard.b410998b8f7d502d.js","sticker.d2b35972bd4d0c91.js"],"promocode_partners.js":["PartnersPage.2b011c0c5390c7b9.js"],"redesign_wall_post.js":["SinglePost.7a7059f559e05b28.js"],"showcase_menu.js":["ShowcaseMenu.2eea1ee5f44d2f61.js"],"stories.js":["narratives_list.a2a93d09d016e84e.js"],"superapp.js":["mvk-logout-modal.971d738d021e46ff.js"],"ugc_sticker.js":["StickersKit-AgeRestrictionModal.68cdbffd7ecd187b.js"],"video_showcase.js":["VideoShowcasePage.4209bb067a5e5915.js"],"vkapps.js":["StoriesCreatorMVK.36633212c8ef99a4.js","mvk-logout-modal.971d738d021e46ff.js","a11y-logger.e12edd0db7e1d717.js","miniAppsActionHandlers.88a49ce9985b7070.js","plugins_maps_mmrgl_script_chunk.90d6edfaad7bd7b7.js","plugins_maps_mmrgl_style_chunk.b60fec81990a6fa0.js","hls.b1ae28b0212f58f5.js","AlbumUploadAdapter.3010db2243daef38.js","LeftMenu.d0f2b672ab09fda9.js","MiniAppService_MiniApp.bc29e014fef08336.js"],"vkui_playground.js":["VKUIPlaygroundPage.992c6b01b4b2d2d7.js"],"wall.js":["bookmarkClipPost.dd7583dcdead6e35.js","MiniAppService_MiniApp.bc29e014fef08336.js","wallCommentsModal.958e63f5b617f18c.js"],"window_proxy.js":["apiInitializer.8a54fe20eb7f73ba.js"],"runtime.js":["common-dynamic.fd4efafe33ef2088.js","global-spa.a8dcffc23bb95166.js","StoriesCreatorMVK.36633212c8ef99a4.js","mvk-logout-modal.971d738d021e46ff.js","a11y-logger.e12edd0db7e1d717.js","miniAppsActionHandlers.88a49ce9985b7070.js","plugins_maps_mmrgl_script_chunk.90d6edfaad7bd7b7.js","plugins_maps_mmrgl_style_chunk.b60fec81990a6fa0.js","hls.b1ae28b0212f58f5.js","AlbumUploadAdapter.3010db2243daef38.js","LeftMenu.d0f2b672ab09fda9.js","ObsceneTextAlertBox.61b78ce4a2c91a97.js","StickersKeyboard.b410998b8f7d502d.js","StickersHints.00f99b143b0e7d46.js","marusia-mvk-sdk.855eb3fa08d74abe.js","MediaView.cbb292c4746b83bd.js","rlottie.5bf365e6d6d24a87.js","CookieBannerModal.60c96e7c278b83f9.js","AddQuestion.5167a567592d5b16.js","ShowQuestionsBox.1b9ee53ccf6803e6.js","AddQuestionAnswerBox.8e91460fc0cd8081.js","StoriesCreatorMVKApp.f1dd2ee83dc81786.js"],"common-dynamic.js":["grip-lib.8825b2d0dc7e2d7a.js"],"global-spa.js":["MobileCallsBridge.e8bf5b806f9cbaa2.js","mvk-call_modal_chunk.c636a9ab90dbc73b.js","spa-cart.f5c2c585471d0119.js","spa-market-item.161f98c9e84a4114.js","spa-docs.d92404057674216f.js","spa-settings.30f5fb9194118c8e.js","spa-clips.77ca667598aadcac.js","spa-community-reviews.0e964e8f37208ebc.js","posting.31dfe2f4fe8fda53.js","spa-stickers.97487fbe406cd6b5.js","spa-search.df81cea27d1b8894.js","spa-video-search.73033e276558ff6a.js","spa-service-booking.996f4eadb6cffca5.js","spa-games.e1b0c83847c3553e.js","spa-mvk-call-join.1475469f30b9341b.js"],"StoriesCreatorMVK.js":["a11y-logger.e12edd0db7e1d717.js","miniAppsActionHandlers.88a49ce9985b7070.js","plugins_maps_mmrgl_script_chunk.90d6edfaad7bd7b7.js","plugins_maps_mmrgl_style_chunk.b60fec81990a6fa0.js","hls.b1ae28b0212f58f5.js","AlbumUploadAdapter.3010db2243daef38.js","LeftMenu.d0f2b672ab09fda9.js","StoriesCreatorMVKApp.f1dd2ee83dc81786.js"],"mvk-logout-modal.js":["LeftMenu.d0f2b672ab09fda9.js"],"miniAppsActionHandlers.js":["MiniAppService_MiniApp.bc29e014fef08336.js"],"LeftMenu.js":["mvk-logout-modal.971d738d021e46ff.js"],"4409.js":["SearchCatalog.f5aa1e343a3ba1ab.js","StickersLayerView.015054c8313155d3.js"],"apiInitializer.js":["StoriesCreatorMVK.36633212c8ef99a4.js","mvk-logout-modal.971d738d021e46ff.js","a11y-logger.e12edd0db7e1d717.js","miniAppsActionHandlers.88a49ce9985b7070.js","plugins_maps_mmrgl_script_chunk.90d6edfaad7bd7b7.js","plugins_maps_mmrgl_style_chunk.b60fec81990a6fa0.js","hls.b1ae28b0212f58f5.js","AlbumUploadAdapter.3010db2243daef38.js","LeftMenu.d0f2b672ab09fda9.js"],"wallCommentsModal.js":["sticker.d2b35972bd4d0c91.js"],"VideoShowcasePage.js":["MobileCallsBridge.e8bf5b806f9cbaa2.js","mvk-call_modal_chunk.c636a9ab90dbc73b.js","SelectPhotoContent.414c4de31f59d924.js","SelectVideoContent.9245f18fe92d2b0d.js","SelectAudioContent.f06d32cf7e02d709.js","SelectDocContent.7819d2a1374381c3.js","StickersKeyboard.b410998b8f7d502d.js","sticker.d2b35972bd4d0c91.js","UploadModalVideo.5a266c775f8d40ac.js","InteractiveVideoOnboarding.cbd56d13e3a3f908.js"],"ShowcaseMenu.js":["mvk-logout-modal.971d738d021e46ff.js"],"mvk-call_modal_chunk.js":["mvk-call_modal_chunk.c636a9ab90dbc73b.js","MobileCallsBridge.e8bf5b806f9cbaa2.js"],"PostContextMenu.js":["MiniAppService_MiniApp.bc29e014fef08336.js"],"MiniAppsCatalog.js":["MobileCallsBridge.e8bf5b806f9cbaa2.js","mvk-call_modal_chunk.c636a9ab90dbc73b.js"],"CommunitiesMembersCatalog.js":["MobileCallsBridge.e8bf5b806f9cbaa2.js","mvk-call_modal_chunk.c636a9ab90dbc73b.js"],"FriendsCatalog.js":["MobileCallsBridge.e8bf5b806f9cbaa2.js","mvk-call_modal_chunk.c636a9ab90dbc73b.js"],"UploadModalStandalone.js":["hls.b1ae28b0212f58f5.js","framer-motion-entrypoint.32f215de228d483d.js","SelectPhotoContent.414c4de31f59d924.js","SelectVideoContent.9245f18fe92d2b0d.js","SelectAudioContent.f06d32cf7e02d709.js","SelectDocContent.7819d2a1374381c3.js","StickersKeyboard.b410998b8f7d502d.js","sticker.d2b35972bd4d0c91.js"],"CommunitiesShowcase.js":["MobileCallsBridge.e8bf5b806f9cbaa2.js","mvk-call_modal_chunk.c636a9ab90dbc73b.js"],"CommunitiesCatalog.js":["MobileCallsBridge.e8bf5b806f9cbaa2.js","mvk-call_modal_chunk.c636a9ab90dbc73b.js"],"GetAuthTokenModal.js":["MiniAppService_MiniApp.bc29e014fef08336.js"],"AudioCatalog.js":["MobileCallsBridge.e8bf5b806f9cbaa2.js","mvk-call_modal_chunk.c636a9ab90dbc73b.js"],"spa-cart.js":["MiniAppService_MiniApp.bc29e014fef08336.js"],"spa-market-item.js":["sticker.d2b35972bd4d0c91.js"],"posting.js":["MiniAppService_MiniApp.bc29e014fef08336.js"],"spa-search.js":["mvk-call_modal_chunk.c636a9ab90dbc73b.js","MobileCallsBridge.e8bf5b806f9cbaa2.js"],"SearchCatalog.js":["MobileCallsBridge.e8bf5b806f9cbaa2.js","mvk-call_modal_chunk.c636a9ab90dbc73b.js"],"vendors~icons.js":["MiniAppService_MiniApp.bc29e014fef08336.js","StoriesCreatorMVK.36633212c8ef99a4.js","mvk-logout-modal.971d738d021e46ff.js","a11y-logger.e12edd0db7e1d717.js","miniAppsActionHandlers.88a49ce9985b7070.js","plugins_maps_mmrgl_script_chunk.90d6edfaad7bd7b7.js","plugins_maps_mmrgl_style_chunk.b60fec81990a6fa0.js","hls.b1ae28b0212f58f5.js","AlbumUploadAdapter.3010db2243daef38.js","LeftMenu.d0f2b672ab09fda9.js","rlottie.5bf365e6d6d24a87.js","MobileCallsBridge.e8bf5b806f9cbaa2.js","mvk-call_modal_chunk.c636a9ab90dbc73b.js","AudioCatalog.bb5ec3fa857db260.js","IframeModal.a8a0af1f047435f6.js","ValidatePhoneIframeModal.df1855ffae58fc19.js","ShowImages.dc980977510ac564.js","GetAuthTokenModal.d0d2d748ecb934fb.js","JoinLeaveGroupModal.eb6962ff225cca9a.js","GetPhoneNumberConfirmModal.6ef69b5bddd0aa1b.js","GetEmailConfirmModal.0fd2b4c9e1074bbf.js","GetGroupInfoConfirmModal.4092b18e5e5f210a.js","SlidesSheetModal.a16321f72ceb1cae.js","AllowMessagesFromGroupModal.a0d416f5b40e3e88.js","AllowNotificationsModal.d6c896a89529fdf3.js","Alert.c50cc51f2c196732.js","AddToFavoritesConfirmModal.56af08cc60cbcaf5.js","GetFriendsModal.6d76d650011c5a8d.js","common-dynamic.fd4efafe33ef2088.js","global-spa.a8dcffc23bb95166.js","ObsceneTextAlertBox.61b78ce4a2c91a97.js","StickersKeyboard.b410998b8f7d502d.js","StickersHints.00f99b143b0e7d46.js","marusia-mvk-sdk.855eb3fa08d74abe.js","MediaView.cbb292c4746b83bd.js","CookieBannerModal.60c96e7c278b83f9.js","AddQuestion.5167a567592d5b16.js","ShowQuestionsBox.1b9ee53ccf6803e6.js","AddQuestionAnswerBox.8e91460fc0cd8081.js","StoriesCreatorMVKApp.f1dd2ee83dc81786.js","CommunitiesCatalog.c88f30c0b4f31e29.js","CommunitiesShowcase.ba064de9c96675a4.js","sticker.d2b35972bd4d0c91.js","FriendsCatalog.86ddd1acb9d871b9.js","CommunitiesMembersCatalog.b98ba772787c5808.js","framer-motion-entrypoint.32f215de228d483d.js","thumbnail_creator.f6fc1c9ecf0bb760.js","SelectPhotoContent.414c4de31f59d924.js","SelectVideoContent.9245f18fe92d2b0d.js","SelectAudioContent.f06d32cf7e02d709.js","SelectDocContent.7819d2a1374381c3.js","narratives_list.a2a93d09d016e84e.js","bookmarkClipPost.dd7583dcdead6e35.js","wallCommentsModal.958e63f5b617f18c.js","spa-cart.f5c2c585471d0119.js","spa-market-item.161f98c9e84a4114.js","spa-docs.d92404057674216f.js","spa-settings.30f5fb9194118c8e.js","spa-clips.77ca667598aadcac.js","spa-community-reviews.0e964e8f37208ebc.js","posting.31dfe2f4fe8fda53.js","spa-stickers.97487fbe406cd6b5.js","spa-search.df81cea27d1b8894.js","spa-video-search.73033e276558ff6a.js","spa-service-booking.996f4eadb6cffca5.js","spa-games.e1b0c83847c3553e.js","spa-mvk-call-join.1475469f30b9341b.js","SearchCatalog.f5aa1e343a3ba1ab.js","StickersLayerView.015054c8313155d3.js","UploadModalVideo.5a266c775f8d40ac.js","InteractiveVideoOnboarding.cbd56d13e3a3f908.js"],"vendors.js":["MiniAppService_MiniApp.bc29e014fef08336.js","StoriesCreatorMVK.36633212c8ef99a4.js","mvk-logout-modal.971d738d021e46ff.js","a11y-logger.e12edd0db7e1d717.js","miniAppsActionHandlers.88a49ce9985b7070.js","plugins_maps_mmrgl_script_chunk.90d6edfaad7bd7b7.js","plugins_maps_mmrgl_style_chunk.b60fec81990a6fa0.js","hls.b1ae28b0212f58f5.js","AlbumUploadAdapter.3010db2243daef38.js","LeftMenu.d0f2b672ab09fda9.js","rlottie.5bf365e6d6d24a87.js","MobileCallsBridge.e8bf5b806f9cbaa2.js","mvk-call_modal_chunk.c636a9ab90dbc73b.js","AudioCatalog.bb5ec3fa857db260.js","DownloadedSection.08d7b4edff4436bf.js","common-dynamic.fd4efafe33ef2088.js","global-spa.a8dcffc23bb95166.js","ObsceneTextAlertBox.61b78ce4a2c91a97.js","StickersKeyboard.b410998b8f7d502d.js","StickersHints.00f99b143b0e7d46.js","marusia-mvk-sdk.855eb3fa08d74abe.js","MediaView.cbb292c4746b83bd.js","CookieBannerModal.60c96e7c278b83f9.js","AddQuestion.5167a567592d5b16.js","ShowQuestionsBox.1b9ee53ccf6803e6.js","AddQuestionAnswerBox.8e91460fc0cd8081.js","StoriesCreatorMVKApp.f1dd2ee83dc81786.js","CommunitiesCatalog.c88f30c0b4f31e29.js","CommunitiesShowcase.ba064de9c96675a4.js","FriendsCatalog.86ddd1acb9d871b9.js","CommunitiesMembersCatalog.b98ba772787c5808.js","framer-motion-entrypoint.32f215de228d483d.js","thumbnail_creator.f6fc1c9ecf0bb760.js","PhotoStream.b113c734af34e1b6.js","SelectPhotoContent.414c4de31f59d924.js","SelectVideoContent.9245f18fe92d2b0d.js","SelectAudioContent.f06d32cf7e02d709.js","SelectDocContent.7819d2a1374381c3.js","sticker.d2b35972bd4d0c91.js","narratives_list.a2a93d09d016e84e.js","VKUIPlaygroundPage.992c6b01b4b2d2d7.js","bookmarkClipPost.dd7583dcdead6e35.js","wallCommentsModal.958e63f5b617f18c.js","apiInitializer.8a54fe20eb7f73ba.js","spa-cart.f5c2c585471d0119.js","spa-market-item.161f98c9e84a4114.js","spa-docs.d92404057674216f.js","spa-settings.30f5fb9194118c8e.js","spa-clips.77ca667598aadcac.js","spa-community-reviews.0e964e8f37208ebc.js","posting.31dfe2f4fe8fda53.js","spa-stickers.97487fbe406cd6b5.js","spa-search.df81cea27d1b8894.js","spa-video-search.73033e276558ff6a.js","spa-service-booking.996f4eadb6cffca5.js","spa-games.e1b0c83847c3553e.js","spa-mvk-call-join.1475469f30b9341b.js","SearchCatalog.f5aa1e343a3ba1ab.js","StickersLayerView.015054c8313155d3.js","UploadModalVideo.5a266c775f8d40ac.js","InteractiveVideoOnboarding.cbd56d13e3a3f908.js"],"vendors~api.js":["MiniAppService_MiniApp.bc29e014fef08336.js","StoriesCreatorMVK.36633212c8ef99a4.js","mvk-logout-modal.971d738d021e46ff.js","a11y-logger.e12edd0db7e1d717.js","miniAppsActionHandlers.88a49ce9985b7070.js","plugins_maps_mmrgl_script_chunk.90d6edfaad7bd7b7.js","plugins_maps_mmrgl_style_chunk.b60fec81990a6fa0.js","hls.b1ae28b0212f58f5.js","AlbumUploadAdapter.3010db2243daef38.js","LeftMenu.d0f2b672ab09fda9.js","rlottie.5bf365e6d6d24a87.js","MobileCallsBridge.e8bf5b806f9cbaa2.js","mvk-call_modal_chunk.c636a9ab90dbc73b.js","AudioCatalog.bb5ec3fa857db260.js","common-dynamic.fd4efafe33ef2088.js","global-spa.a8dcffc23bb95166.js","ObsceneTextAlertBox.61b78ce4a2c91a97.js","StickersKeyboard.b410998b8f7d502d.js","StickersHints.00f99b143b0e7d46.js","marusia-mvk-sdk.855eb3fa08d74abe.js","MediaView.cbb292c4746b83bd.js","CookieBannerModal.60c96e7c278b83f9.js","AddQuestion.5167a567592d5b16.js","ShowQuestionsBox.1b9ee53ccf6803e6.js","AddQuestionAnswerBox.8e91460fc0cd8081.js","StoriesCreatorMVKApp.f1dd2ee83dc81786.js","CommunitiesCatalog.c88f30c0b4f31e29.js","CommunitiesShowcase.ba064de9c96675a4.js","sticker.d2b35972bd4d0c91.js","FriendsCatalog.86ddd1acb9d871b9.js","CommunitiesMembersCatalog.b98ba772787c5808.js","framer-motion-entrypoint.32f215de228d483d.js","thumbnail_creator.f6fc1c9ecf0bb760.js","PostingRedesign.525b52323804fb5a.js","SelectPhotoContent.414c4de31f59d924.js","SelectVideoContent.9245f18fe92d2b0d.js","SelectAudioContent.f06d32cf7e02d709.js","SelectDocContent.7819d2a1374381c3.js","narratives_list.a2a93d09d016e84e.js","bookmarkClipPost.dd7583dcdead6e35.js","wallCommentsModal.958e63f5b617f18c.js","SearchCatalog.f5aa1e343a3ba1ab.js","StickersLayerView.015054c8313155d3.js","UploadModalVideo.5a266c775f8d40ac.js","InteractiveVideoOnboarding.cbd56d13e3a3f908.js"],"vendors~vk.js":["MiniAppService_MiniApp.bc29e014fef08336.js","StoriesCreatorMVK.36633212c8ef99a4.js","mvk-logout-modal.971d738d021e46ff.js","a11y-logger.e12edd0db7e1d717.js","miniAppsActionHandlers.88a49ce9985b7070.js","plugins_maps_mmrgl_script_chunk.90d6edfaad7bd7b7.js","plugins_maps_mmrgl_style_chunk.b60fec81990a6fa0.js","hls.b1ae28b0212f58f5.js","AlbumUploadAdapter.3010db2243daef38.js","LeftMenu.d0f2b672ab09fda9.js","rlottie.5bf365e6d6d24a87.js","MobileCallsBridge.e8bf5b806f9cbaa2.js","mvk-call_modal_chunk.c636a9ab90dbc73b.js","AudioCatalog.bb5ec3fa857db260.js","common-dynamic.fd4efafe33ef2088.js","global-spa.a8dcffc23bb95166.js","ObsceneTextAlertBox.61b78ce4a2c91a97.js","StickersKeyboard.b410998b8f7d502d.js","StickersHints.00f99b143b0e7d46.js","marusia-mvk-sdk.855eb3fa08d74abe.js","MediaView.cbb292c4746b83bd.js","CookieBannerModal.60c96e7c278b83f9.js","AddQuestion.5167a567592d5b16.js","ShowQuestionsBox.1b9ee53ccf6803e6.js","AddQuestionAnswerBox.8e91460fc0cd8081.js","StoriesCreatorMVKApp.f1dd2ee83dc81786.js","CommunitiesCatalog.c88f30c0b4f31e29.js","CommunitiesShowcase.ba064de9c96675a4.js","FriendsCatalog.86ddd1acb9d871b9.js","CommunitiesMembersCatalog.b98ba772787c5808.js","thumbnail_creator.f6fc1c9ecf0bb760.js","PhotoStream.b113c734af34e1b6.js","framer-motion-entrypoint.32f215de228d483d.js","SelectPhotoContent.414c4de31f59d924.js","SelectVideoContent.9245f18fe92d2b0d.js","SelectAudioContent.f06d32cf7e02d709.js","SelectDocContent.7819d2a1374381c3.js","sticker.d2b35972bd4d0c91.js","VKUIPlaygroundPage.992c6b01b4b2d2d7.js","bookmarkClipPost.dd7583dcdead6e35.js","wallCommentsModal.958e63f5b617f18c.js","spa-cart.f5c2c585471d0119.js","spa-market-item.161f98c9e84a4114.js","spa-docs.d92404057674216f.js","spa-settings.30f5fb9194118c8e.js","spa-clips.77ca667598aadcac.js","spa-community-reviews.0e964e8f37208ebc.js","posting.31dfe2f4fe8fda53.js","spa-stickers.97487fbe406cd6b5.js","spa-search.df81cea27d1b8894.js","spa-video-search.73033e276558ff6a.js","spa-service-booking.996f4eadb6cffca5.js","spa-games.e1b0c83847c3553e.js","spa-mvk-call-join.1475469f30b9341b.js","SearchCatalog.f5aa1e343a3ba1ab.js","StickersLayerView.015054c8313155d3.js","UploadModalVideo.5a266c775f8d40ac.js","InteractiveVideoOnboarding.cbd56d13e3a3f908.js"],"vendors~vkjs.js":["MiniAppService_MiniApp.bc29e014fef08336.js","StoriesCreatorMVK.36633212c8ef99a4.js","mvk-logout-modal.971d738d021e46ff.js","a11y-logger.e12edd0db7e1d717.js","miniAppsActionHandlers.88a49ce9985b7070.js","plugins_maps_mmrgl_script_chunk.90d6edfaad7bd7b7.js","plugins_maps_mmrgl_style_chunk.b60fec81990a6fa0.js","hls.b1ae28b0212f58f5.js","AlbumUploadAdapter.3010db2243daef38.js","LeftMenu.d0f2b672ab09fda9.js","rlottie.5bf365e6d6d24a87.js","MobileCallsBridge.e8bf5b806f9cbaa2.js","mvk-call_modal_chunk.c636a9ab90dbc73b.js","common-dynamic.fd4efafe33ef2088.js","global-spa.a8dcffc23bb95166.js","ObsceneTextAlertBox.61b78ce4a2c91a97.js","StickersKeyboard.b410998b8f7d502d.js","StickersHints.00f99b143b0e7d46.js","marusia-mvk-sdk.855eb3fa08d74abe.js","MediaView.cbb292c4746b83bd.js","CookieBannerModal.60c96e7c278b83f9.js","AddQuestion.5167a567592d5b16.js","ShowQuestionsBox.1b9ee53ccf6803e6.js","AddQuestionAnswerBox.8e91460fc0cd8081.js","StoriesCreatorMVKApp.f1dd2ee83dc81786.js","framer-motion-entrypoint.32f215de228d483d.js","thumbnail_creator.f6fc1c9ecf0bb760.js","SelectPhotoContent.414c4de31f59d924.js","SelectVideoContent.9245f18fe92d2b0d.js","SelectAudioContent.f06d32cf7e02d709.js","SelectDocContent.7819d2a1374381c3.js","sticker.d2b35972bd4d0c91.js","bookmarkClipPost.dd7583dcdead6e35.js","wallCommentsModal.958e63f5b617f18c.js","apiInitializer.8a54fe20eb7f73ba.js","spa-cart.f5c2c585471d0119.js","spa-market-item.161f98c9e84a4114.js","spa-docs.d92404057674216f.js","spa-settings.30f5fb9194118c8e.js","spa-clips.77ca667598aadcac.js","spa-community-reviews.0e964e8f37208ebc.js","posting.31dfe2f4fe8fda53.js","spa-stickers.97487fbe406cd6b5.js","spa-search.df81cea27d1b8894.js","spa-video-search.73033e276558ff6a.js","spa-service-booking.996f4eadb6cffca5.js","spa-games.e1b0c83847c3553e.js","spa-mvk-call-join.1475469f30b9341b.js","UploadModalVideo.5a266c775f8d40ac.js","InteractiveVideoOnboarding.cbd56d13e3a3f908.js"],"vendors~effector.js":["StoriesCreatorMVK.36633212c8ef99a4.js","mvk-logout-modal.971d738d021e46ff.js","a11y-logger.e12edd0db7e1d717.js","miniAppsActionHandlers.88a49ce9985b7070.js","plugins_maps_mmrgl_script_chunk.90d6edfaad7bd7b7.js","plugins_maps_mmrgl_style_chunk.b60fec81990a6fa0.js","hls.b1ae28b0212f58f5.js","AlbumUploadAdapter.3010db2243daef38.js","LeftMenu.d0f2b672ab09fda9.js","rlottie.5bf365e6d6d24a87.js","MiniAppService_MiniApp.bc29e014fef08336.js","MobileCallsBridge.e8bf5b806f9cbaa2.js","mvk-call_modal_chunk.c636a9ab90dbc73b.js","AudioCatalog.bb5ec3fa857db260.js","common-dynamic.fd4efafe33ef2088.js","global-spa.a8dcffc23bb95166.js","ObsceneTextAlertBox.61b78ce4a2c91a97.js","StickersKeyboard.b410998b8f7d502d.js","StickersHints.00f99b143b0e7d46.js","marusia-mvk-sdk.855eb3fa08d74abe.js","MediaView.cbb292c4746b83bd.js","CookieBannerModal.60c96e7c278b83f9.js","AddQuestion.5167a567592d5b16.js","ShowQuestionsBox.1b9ee53ccf6803e6.js","AddQuestionAnswerBox.8e91460fc0cd8081.js","StoriesCreatorMVKApp.f1dd2ee83dc81786.js","CommunitiesCatalog.c88f30c0b4f31e29.js","CommunitiesShowcase.ba064de9c96675a4.js","FriendsCatalog.86ddd1acb9d871b9.js","CommunitiesMembersCatalog.b98ba772787c5808.js","framer-motion-entrypoint.32f215de228d483d.js","SelectPhotoContent.414c4de31f59d924.js","SelectVideoContent.9245f18fe92d2b0d.js","SelectAudioContent.f06d32cf7e02d709.js","SelectDocContent.7819d2a1374381c3.js","sticker.d2b35972bd4d0c91.js","SearchCatalog.f5aa1e343a3ba1ab.js","StickersLayerView.015054c8313155d3.js","UploadModalVideo.5a266c775f8d40ac.js","InteractiveVideoOnboarding.cbd56d13e3a3f908.js"],"vendors~reactUtils.js":["StoriesCreatorMVK.36633212c8ef99a4.js","mvk-logout-modal.971d738d021e46ff.js","a11y-logger.e12edd0db7e1d717.js","miniAppsActionHandlers.88a49ce9985b7070.js","plugins_maps_mmrgl_script_chunk.90d6edfaad7bd7b7.js","plugins_maps_mmrgl_style_chunk.b60fec81990a6fa0.js","hls.b1ae28b0212f58f5.js","AlbumUploadAdapter.3010db2243daef38.js","LeftMenu.d0f2b672ab09fda9.js","rlottie.5bf365e6d6d24a87.js","MiniAppService_MiniApp.bc29e014fef08336.js","MobileCallsBridge.e8bf5b806f9cbaa2.js","mvk-call_modal_chunk.c636a9ab90dbc73b.js","AudioCatalog.bb5ec3fa857db260.js","CommunitiesCatalog.c88f30c0b4f31e29.js","CommunitiesShowcase.ba064de9c96675a4.js","FriendsCatalog.86ddd1acb9d871b9.js","CommunitiesMembersCatalog.b98ba772787c5808.js","framer-motion-entrypoint.32f215de228d483d.js","SelectPhotoContent.414c4de31f59d924.js","SelectVideoContent.9245f18fe92d2b0d.js","SelectAudioContent.f06d32cf7e02d709.js","SelectDocContent.7819d2a1374381c3.js","StickersKeyboard.b410998b8f7d502d.js","sticker.d2b35972bd4d0c91.js","spa-cart.f5c2c585471d0119.js","spa-market-item.161f98c9e84a4114.js","spa-docs.d92404057674216f.js","spa-settings.30f5fb9194118c8e.js","spa-clips.77ca667598aadcac.js","spa-community-reviews.0e964e8f37208ebc.js","posting.31dfe2f4fe8fda53.js","spa-stickers.97487fbe406cd6b5.js","spa-search.df81cea27d1b8894.js","spa-video-search.73033e276558ff6a.js","spa-service-booking.996f4eadb6cffca5.js","spa-games.e1b0c83847c3553e.js","spa-mvk-call-join.1475469f30b9341b.js","SearchCatalog.f5aa1e343a3ba1ab.js","StickersLayerView.015054c8313155d3.js","UploadModalVideo.5a266c775f8d40ac.js","InteractiveVideoOnboarding.cbd56d13e3a3f908.js"],"vendors~runtime.js":["StoriesCreatorMVK.36633212c8ef99a4.js","mvk-logout-modal.971d738d021e46ff.js","a11y-logger.e12edd0db7e1d717.js","miniAppsActionHandlers.88a49ce9985b7070.js","plugins_maps_mmrgl_script_chunk.90d6edfaad7bd7b7.js","plugins_maps_mmrgl_style_chunk.b60fec81990a6fa0.js","hls.b1ae28b0212f58f5.js","AlbumUploadAdapter.3010db2243daef38.js","LeftMenu.d0f2b672ab09fda9.js","rlottie.5bf365e6d6d24a87.js","MiniAppService_MiniApp.bc29e014fef08336.js","MobileCallsBridge.e8bf5b806f9cbaa2.js","mvk-call_modal_chunk.c636a9ab90dbc73b.js","AudioCatalog.bb5ec3fa857db260.js","common-dynamic.fd4efafe33ef2088.js","global-spa.a8dcffc23bb95166.js","ObsceneTextAlertBox.61b78ce4a2c91a97.js","StickersKeyboard.b410998b8f7d502d.js","StickersHints.00f99b143b0e7d46.js","marusia-mvk-sdk.855eb3fa08d74abe.js","MediaView.cbb292c4746b83bd.js","CookieBannerModal.60c96e7c278b83f9.js","AddQuestion.5167a567592d5b16.js","ShowQuestionsBox.1b9ee53ccf6803e6.js","AddQuestionAnswerBox.8e91460fc0cd8081.js","StoriesCreatorMVKApp.f1dd2ee83dc81786.js","CommunitiesCatalog.c88f30c0b4f31e29.js","CommunitiesShowcase.ba064de9c96675a4.js","FriendsCatalog.86ddd1acb9d871b9.js","CommunitiesMembersCatalog.b98ba772787c5808.js","PhotoStream.b113c734af34e1b6.js","framer-motion-entrypoint.32f215de228d483d.js","SelectPhotoContent.414c4de31f59d924.js","SelectVideoContent.9245f18fe92d2b0d.js","SelectAudioContent.f06d32cf7e02d709.js","SelectDocContent.7819d2a1374381c3.js","sticker.d2b35972bd4d0c91.js","VKUIPlaygroundPage.992c6b01b4b2d2d7.js","bookmarkClipPost.dd7583dcdead6e35.js","wallCommentsModal.958e63f5b617f18c.js","SearchCatalog.f5aa1e343a3ba1ab.js","StickersLayerView.015054c8313155d3.js","UploadModalVideo.5a266c775f8d40ac.js","InteractiveVideoOnboarding.cbd56d13e3a3f908.js"],"vendors~videoplayer.js":["StoriesCreatorMVK.36633212c8ef99a4.js","mvk-logout-modal.971d738d021e46ff.js","a11y-logger.e12edd0db7e1d717.js","miniAppsActionHandlers.88a49ce9985b7070.js","plugins_maps_mmrgl_script_chunk.90d6edfaad7bd7b7.js","plugins_maps_mmrgl_style_chunk.b60fec81990a6fa0.js","hls.b1ae28b0212f58f5.js","AlbumUploadAdapter.3010db2243daef38.js","LeftMenu.d0f2b672ab09fda9.js","rlottie.5bf365e6d6d24a87.js","MiniAppService_MiniApp.bc29e014fef08336.js","MobileCallsBridge.e8bf5b806f9cbaa2.js","mvk-call_modal_chunk.c636a9ab90dbc73b.js","thumbnail_creator.f6fc1c9ecf0bb760.js","framer-motion-entrypoint.32f215de228d483d.js","SelectPhotoContent.414c4de31f59d924.js","SelectVideoContent.9245f18fe92d2b0d.js","SelectAudioContent.f06d32cf7e02d709.js","SelectDocContent.7819d2a1374381c3.js","StickersKeyboard.b410998b8f7d502d.js","sticker.d2b35972bd4d0c91.js","narratives_list.a2a93d09d016e84e.js","bookmarkClipPost.dd7583dcdead6e35.js","wallCommentsModal.958e63f5b617f18c.js","UploadModalVideo.5a266c775f8d40ac.js","InteractiveVideoOnboarding.cbd56d13e3a3f908.js"],"vendors~videoplayer-interactive.js":["StoriesCreatorMVK.36633212c8ef99a4.js","mvk-logout-modal.971d738d021e46ff.js","a11y-logger.e12edd0db7e1d717.js","miniAppsActionHandlers.88a49ce9985b7070.js","plugins_maps_mmrgl_script_chunk.90d6edfaad7bd7b7.js","plugins_maps_mmrgl_style_chunk.b60fec81990a6fa0.js","hls.b1ae28b0212f58f5.js","AlbumUploadAdapter.3010db2243daef38.js","LeftMenu.d0f2b672ab09fda9.js","rlottie.5bf365e6d6d24a87.js","MiniAppService_MiniApp.bc29e014fef08336.js","MobileCallsBridge.e8bf5b806f9cbaa2.js","mvk-call_modal_chunk.c636a9ab90dbc73b.js","thumbnail_creator.f6fc1c9ecf0bb760.js","framer-motion-entrypoint.32f215de228d483d.js","SelectPhotoContent.414c4de31f59d924.js","SelectVideoContent.9245f18fe92d2b0d.js","SelectAudioContent.f06d32cf7e02d709.js","SelectDocContent.7819d2a1374381c3.js","StickersKeyboard.b410998b8f7d502d.js","sticker.d2b35972bd4d0c91.js","narratives_list.a2a93d09d016e84e.js","bookmarkClipPost.dd7583dcdead6e35.js","wallCommentsModal.958e63f5b617f18c.js","UploadModalVideo.5a266c775f8d40ac.js","InteractiveVideoOnboarding.cbd56d13e3a3f908.js"],"vendors~draggable.js":["StoriesCreatorMVK.36633212c8ef99a4.js","mvk-logout-modal.971d738d021e46ff.js","a11y-logger.e12edd0db7e1d717.js","miniAppsActionHandlers.88a49ce9985b7070.js","plugins_maps_mmrgl_script_chunk.90d6edfaad7bd7b7.js","plugins_maps_mmrgl_style_chunk.b60fec81990a6fa0.js","hls.b1ae28b0212f58f5.js","AlbumUploadAdapter.3010db2243daef38.js","LeftMenu.d0f2b672ab09fda9.js","rlottie.5bf365e6d6d24a87.js","MiniAppService_MiniApp.bc29e014fef08336.js","MobileCallsBridge.e8bf5b806f9cbaa2.js","mvk-call_modal_chunk.c636a9ab90dbc73b.js","AudioCatalog.bb5ec3fa857db260.js","CommunitiesCatalog.c88f30c0b4f31e29.js","CommunitiesShowcase.ba064de9c96675a4.js","FriendsCatalog.86ddd1acb9d871b9.js","CommunitiesMembersCatalog.b98ba772787c5808.js","thumbnail_creator.f6fc1c9ecf0bb760.js","framer-motion-entrypoint.32f215de228d483d.js","SelectPhotoContent.414c4de31f59d924.js","SelectVideoContent.9245f18fe92d2b0d.js","SelectAudioContent.f06d32cf7e02d709.js","SelectDocContent.7819d2a1374381c3.js","StickersKeyboard.b410998b8f7d502d.js","sticker.d2b35972bd4d0c91.js","SearchCatalog.f5aa1e343a3ba1ab.js","StickersLayerView.015054c8313155d3.js","UploadModalVideo.5a266c775f8d40ac.js","InteractiveVideoOnboarding.cbd56d13e3a3f908.js"],"vendors~vkui.js":["StoriesCreatorMVK.36633212c8ef99a4.js","mvk-logout-modal.971d738d021e46ff.js","a11y-logger.e12edd0db7e1d717.js","miniAppsActionHandlers.88a49ce9985b7070.js","plugins_maps_mmrgl_script_chunk.90d6edfaad7bd7b7.js","plugins_maps_mmrgl_style_chunk.b60fec81990a6fa0.js","hls.b1ae28b0212f58f5.js","AlbumUploadAdapter.3010db2243daef38.js","LeftMenu.d0f2b672ab09fda9.js","rlottie.5bf365e6d6d24a87.js","MiniAppService_MiniApp.bc29e014fef08336.js","MobileCallsBridge.e8bf5b806f9cbaa2.js","mvk-call_modal_chunk.c636a9ab90dbc73b.js","common-dynamic.fd4efafe33ef2088.js","global-spa.a8dcffc23bb95166.js","ObsceneTextAlertBox.61b78ce4a2c91a97.js","StickersKeyboard.b410998b8f7d502d.js","StickersHints.00f99b143b0e7d46.js","marusia-mvk-sdk.855eb3fa08d74abe.js","MediaView.cbb292c4746b83bd.js","CookieBannerModal.60c96e7c278b83f9.js","AddQuestion.5167a567592d5b16.js","ShowQuestionsBox.1b9ee53ccf6803e6.js","AddQuestionAnswerBox.8e91460fc0cd8081.js","StoriesCreatorMVKApp.f1dd2ee83dc81786.js"],"vendors~onlyReact.js":["StoriesCreatorMVK.36633212c8ef99a4.js","mvk-logout-modal.971d738d021e46ff.js","a11y-logger.e12edd0db7e1d717.js","miniAppsActionHandlers.88a49ce9985b7070.js","plugins_maps_mmrgl_script_chunk.90d6edfaad7bd7b7.js","plugins_maps_mmrgl_style_chunk.b60fec81990a6fa0.js","hls.b1ae28b0212f58f5.js","AlbumUploadAdapter.3010db2243daef38.js","LeftMenu.d0f2b672ab09fda9.js","rlottie.5bf365e6d6d24a87.js","MiniAppService_MiniApp.bc29e014fef08336.js","MobileCallsBridge.e8bf5b806f9cbaa2.js","mvk-call_modal_chunk.c636a9ab90dbc73b.js","common-dynamic.fd4efafe33ef2088.js","global-spa.a8dcffc23bb95166.js","ObsceneTextAlertBox.61b78ce4a2c91a97.js","StickersKeyboard.b410998b8f7d502d.js","StickersHints.00f99b143b0e7d46.js","marusia-mvk-sdk.855eb3fa08d74abe.js","MediaView.cbb292c4746b83bd.js","CookieBannerModal.60c96e7c278b83f9.js","AddQuestion.5167a567592d5b16.js","ShowQuestionsBox.1b9ee53ccf6803e6.js","AddQuestionAnswerBox.8e91460fc0cd8081.js","StoriesCreatorMVKApp.f1dd2ee83dc81786.js"],"vendors~framer-motion.js":["framer-motion-entrypoint.32f215de228d483d.js","MobileCallsBridge.e8bf5b806f9cbaa2.js","mvk-call_modal_chunk.c636a9ab90dbc73b.js","hls.b1ae28b0212f58f5.js","SelectPhotoContent.414c4de31f59d924.js","SelectVideoContent.9245f18fe92d2b0d.js","SelectAudioContent.f06d32cf7e02d709.js","SelectDocContent.7819d2a1374381c3.js","StickersKeyboard.b410998b8f7d502d.js","sticker.d2b35972bd4d0c91.js"],"vendors~sentry.js":["common-dynamic.fd4efafe33ef2088.js","global-spa.a8dcffc23bb95166.js","StoriesCreatorMVK.36633212c8ef99a4.js","mvk-logout-modal.971d738d021e46ff.js","a11y-logger.e12edd0db7e1d717.js","miniAppsActionHandlers.88a49ce9985b7070.js","plugins_maps_mmrgl_script_chunk.90d6edfaad7bd7b7.js","plugins_maps_mmrgl_style_chunk.b60fec81990a6fa0.js","hls.b1ae28b0212f58f5.js","AlbumUploadAdapter.3010db2243daef38.js","LeftMenu.d0f2b672ab09fda9.js","ObsceneTextAlertBox.61b78ce4a2c91a97.js","StickersKeyboard.b410998b8f7d502d.js","StickersHints.00f99b143b0e7d46.js","marusia-mvk-sdk.855eb3fa08d74abe.js","MediaView.cbb292c4746b83bd.js","rlottie.5bf365e6d6d24a87.js","CookieBannerModal.60c96e7c278b83f9.js","AddQuestion.5167a567592d5b16.js","ShowQuestionsBox.1b9ee53ccf6803e6.js","AddQuestionAnswerBox.8e91460fc0cd8081.js","StoriesCreatorMVKApp.f1dd2ee83dc81786.js"],"vendors~qr.js":["StoriesCreatorMVK.36633212c8ef99a4.js","mvk-logout-modal.971d738d021e46ff.js","a11y-logger.e12edd0db7e1d717.js","miniAppsActionHandlers.88a49ce9985b7070.js","plugins_maps_mmrgl_script_chunk.90d6edfaad7bd7b7.js","plugins_maps_mmrgl_style_chunk.b60fec81990a6fa0.js","hls.b1ae28b0212f58f5.js","AlbumUploadAdapter.3010db2243daef38.js","LeftMenu.d0f2b672ab09fda9.js","rlottie.5bf365e6d6d24a87.js","MiniAppService_MiniApp.bc29e014fef08336.js","MobileCallsBridge.e8bf5b806f9cbaa2.js","mvk-call_modal_chunk.c636a9ab90dbc73b.js","common-dynamic.fd4efafe33ef2088.js","global-spa.a8dcffc23bb95166.js","ObsceneTextAlertBox.61b78ce4a2c91a97.js","StickersKeyboard.b410998b8f7d502d.js","StickersHints.00f99b143b0e7d46.js","marusia-mvk-sdk.855eb3fa08d74abe.js","MediaView.cbb292c4746b83bd.js","CookieBannerModal.60c96e7c278b83f9.js","AddQuestion.5167a567592d5b16.js","ShowQuestionsBox.1b9ee53ccf6803e6.js","AddQuestionAnswerBox.8e91460fc0cd8081.js","StoriesCreatorMVKApp.f1dd2ee83dc81786.js"],"vendors~eventemitter.js":["common-dynamic.fd4efafe33ef2088.js","global-spa.a8dcffc23bb95166.js","StoriesCreatorMVK.36633212c8ef99a4.js","mvk-logout-modal.971d738d021e46ff.js","a11y-logger.e12edd0db7e1d717.js","miniAppsActionHandlers.88a49ce9985b7070.js","plugins_maps_mmrgl_script_chunk.90d6edfaad7bd7b7.js","plugins_maps_mmrgl_style_chunk.b60fec81990a6fa0.js","hls.b1ae28b0212f58f5.js","AlbumUploadAdapter.3010db2243daef38.js","LeftMenu.d0f2b672ab09fda9.js","ObsceneTextAlertBox.61b78ce4a2c91a97.js","StickersKeyboard.b410998b8f7d502d.js","StickersHints.00f99b143b0e7d46.js","marusia-mvk-sdk.855eb3fa08d74abe.js","MediaView.cbb292c4746b83bd.js","rlottie.5bf365e6d6d24a87.js","CookieBannerModal.60c96e7c278b83f9.js","AddQuestion.5167a567592d5b16.js","ShowQuestionsBox.1b9ee53ccf6803e6.js","AddQuestionAnswerBox.8e91460fc0cd8081.js","StoriesCreatorMVKApp.f1dd2ee83dc81786.js","apiInitializer.8a54fe20eb7f73ba.js"],"vendors~cropperjs.js":["thumbnail_creator.f6fc1c9ecf0bb760.js"],"nav.js":["StoriesCreatorMVK.36633212c8ef99a4.js","mvk-logout-modal.971d738d021e46ff.js","a11y-logger.e12edd0db7e1d717.js","miniAppsActionHandlers.88a49ce9985b7070.js","plugins_maps_mmrgl_script_chunk.90d6edfaad7bd7b7.js","plugins_maps_mmrgl_style_chunk.b60fec81990a6fa0.js","hls.b1ae28b0212f58f5.js","AlbumUploadAdapter.3010db2243daef38.js","LeftMenu.d0f2b672ab09fda9.js","rlottie.5bf365e6d6d24a87.js","MiniAppService_MiniApp.bc29e014fef08336.js","MobileCallsBridge.e8bf5b806f9cbaa2.js","mvk-call_modal_chunk.c636a9ab90dbc73b.js","common-dynamic.fd4efafe33ef2088.js","global-spa.a8dcffc23bb95166.js","ObsceneTextAlertBox.61b78ce4a2c91a97.js","StickersKeyboard.b410998b8f7d502d.js","StickersHints.00f99b143b0e7d46.js","marusia-mvk-sdk.855eb3fa08d74abe.js","MediaView.cbb292c4746b83bd.js","CookieBannerModal.60c96e7c278b83f9.js","AddQuestion.5167a567592d5b16.js","ShowQuestionsBox.1b9ee53ccf6803e6.js","AddQuestionAnswerBox.8e91460fc0cd8081.js","StoriesCreatorMVKApp.f1dd2ee83dc81786.js"],"vkcom-kit.js":["MiniAppService_MiniApp.bc29e014fef08336.js","StoriesCreatorMVK.36633212c8ef99a4.js","mvk-logout-modal.971d738d021e46ff.js","a11y-logger.e12edd0db7e1d717.js","miniAppsActionHandlers.88a49ce9985b7070.js","plugins_maps_mmrgl_script_chunk.90d6edfaad7bd7b7.js","plugins_maps_mmrgl_style_chunk.b60fec81990a6fa0.js","hls.b1ae28b0212f58f5.js","AlbumUploadAdapter.3010db2243daef38.js","LeftMenu.d0f2b672ab09fda9.js","rlottie.5bf365e6d6d24a87.js","MobileCallsBridge.e8bf5b806f9cbaa2.js","mvk-call_modal_chunk.c636a9ab90dbc73b.js","AudioCatalog.bb5ec3fa857db260.js","DownloadedSection.08d7b4edff4436bf.js","IframeModal.a8a0af1f047435f6.js","ValidatePhoneIframeModal.df1855ffae58fc19.js","ShowImages.dc980977510ac564.js","GetAuthTokenModal.d0d2d748ecb934fb.js","JoinLeaveGroupModal.eb6962ff225cca9a.js","GetPhoneNumberConfirmModal.6ef69b5bddd0aa1b.js","GetEmailConfirmModal.0fd2b4c9e1074bbf.js","GetGroupInfoConfirmModal.4092b18e5e5f210a.js","SlidesSheetModal.a16321f72ceb1cae.js","AllowMessagesFromGroupModal.a0d416f5b40e3e88.js","AllowNotificationsModal.d6c896a89529fdf3.js","Alert.c50cc51f2c196732.js","AddToFavoritesConfirmModal.56af08cc60cbcaf5.js","GetFriendsModal.6d76d650011c5a8d.js","common-dynamic.fd4efafe33ef2088.js","global-spa.a8dcffc23bb95166.js","ObsceneTextAlertBox.61b78ce4a2c91a97.js","StickersKeyboard.b410998b8f7d502d.js","StickersHints.00f99b143b0e7d46.js","marusia-mvk-sdk.855eb3fa08d74abe.js","MediaView.cbb292c4746b83bd.js","CookieBannerModal.60c96e7c278b83f9.js","AddQuestion.5167a567592d5b16.js","ShowQuestionsBox.1b9ee53ccf6803e6.js","AddQuestionAnswerBox.8e91460fc0cd8081.js","StoriesCreatorMVKApp.f1dd2ee83dc81786.js","CommunitiesCatalog.c88f30c0b4f31e29.js","CommunitiesShowcase.ba064de9c96675a4.js","sticker.d2b35972bd4d0c91.js","FriendsCatalog.86ddd1acb9d871b9.js","CommunitiesMembersCatalog.b98ba772787c5808.js","framer-motion-entrypoint.32f215de228d483d.js","thumbnail_creator.f6fc1c9ecf0bb760.js","PostingRedesign.525b52323804fb5a.js","SelectPhotoContent.414c4de31f59d924.js","SelectVideoContent.9245f18fe92d2b0d.js","SelectAudioContent.f06d32cf7e02d709.js","SelectDocContent.7819d2a1374381c3.js","narratives_list.a2a93d09d016e84e.js","VKUIPlaygroundPage.992c6b01b4b2d2d7.js","bookmarkClipPost.dd7583dcdead6e35.js","wallCommentsModal.958e63f5b617f18c.js","spa-cart.f5c2c585471d0119.js","spa-market-item.161f98c9e84a4114.js","spa-docs.d92404057674216f.js","spa-settings.30f5fb9194118c8e.js","spa-clips.77ca667598aadcac.js","spa-community-reviews.0e964e8f37208ebc.js","posting.31dfe2f4fe8fda53.js","spa-stickers.97487fbe406cd6b5.js","spa-search.df81cea27d1b8894.js","spa-video-search.73033e276558ff6a.js","spa-service-booking.996f4eadb6cffca5.js","spa-games.e1b0c83847c3553e.js","spa-mvk-call-join.1475469f30b9341b.js","SearchCatalog.f5aa1e343a3ba1ab.js","StickersLayerView.015054c8313155d3.js","UploadModalVideo.5a266c775f8d40ac.js","InteractiveVideoOnboarding.cbd56d13e3a3f908.js"],"sticker-lib.js":["StoriesCreatorMVK.36633212c8ef99a4.js","mvk-logout-modal.971d738d021e46ff.js","a11y-logger.e12edd0db7e1d717.js","miniAppsActionHandlers.88a49ce9985b7070.js","plugins_maps_mmrgl_script_chunk.90d6edfaad7bd7b7.js","plugins_maps_mmrgl_style_chunk.b60fec81990a6fa0.js","hls.b1ae28b0212f58f5.js","AlbumUploadAdapter.3010db2243daef38.js","LeftMenu.d0f2b672ab09fda9.js","rlottie.5bf365e6d6d24a87.js","MiniAppService_MiniApp.bc29e014fef08336.js","MobileCallsBridge.e8bf5b806f9cbaa2.js","mvk-call_modal_chunk.c636a9ab90dbc73b.js","sticker.d2b35972bd4d0c91.js","framer-motion-entrypoint.32f215de228d483d.js","SelectPhotoContent.414c4de31f59d924.js","SelectVideoContent.9245f18fe92d2b0d.js","SelectAudioContent.f06d32cf7e02d709.js","SelectDocContent.7819d2a1374381c3.js","StickersKeyboard.b410998b8f7d502d.js","UploadModalVideo.5a266c775f8d40ac.js","InteractiveVideoOnboarding.cbd56d13e3a3f908.js"]},"init_entries":["legacy.css","common.css","audio.css","login.css","vk_sans_display_faux.css","vk_sans_display.css","vk_sans_observer.js","unauthorized.css"]},"lang":0,"countryISO":"RU","pe":{"search_video_owner_videos_mvk_enabled":1,"mvk_spa_search_video":1,"send_user_info_stats":1,"force_send_user_info":1,"send_user_info_on_localhost":1,"push_notifier":1,"app_pwa_platform_analytics":1,"mini_apps_web_add_to_favorites":1,"mini_apps_check_allowed_scopes_no_validation":1,"mini_apps.web_app_get_friends_with_api":1,"mini_apps_fix_modal_menu_safari_view":1,"mini_apps_share_enrich_mvk":1,"mini_apps_send_stat_arguments_bridge_events":1,"mini_apps_get_friends_mvk":1,"mini_apps_performance_close_app_empty_event":1,"mini_apps_track_event_extra_call":1,"mini_apps_show_actions_fix":1,"mini_apps_send_stat_arguments_bridge_events_sdk":1,"mini_apps_fix_iframe_sizing":1,"mini_apps_hide_close_app":1,"mini_apps_replace_cur_app_with_get_current_app":1,"mini_apps_delete_window_VKAppsActionMenuModal":1,"remove_showAppsBox_from_app_instance":1,"allowWindowApiConfigDomains":1,"mini_apps_delete_window_orderBoxHandler":1,"mini_apps_sdk_launch":1,"mini_apps_disable_vk_web_app_open_article_editor":1,"mini_apps_sdk_together_several_modals":1,"mini_apps_sdk_v2":1,"mini_apps_sdk_launch_allow_postponed_start":1,"mini_apps_sdk_collect_stats":1,"update_web_token_on_vk_web_app_show_wall_post_box":1,"defer_run_mini_app_on_mvk":1,"iframe_error_trigger_from_sdk":1,"mini_apps_methods_config":1,"mini_apps_sdk_fix_pay_form":1,"mini_apps_bridge_stats_bridge_log_field":1,"mini_apps_prevent_double_mount_event":1,"mini_apps_sdk_allow_bridge_method_dry_run":1,"cookie_secure_default_true":1,"feed_post_ads_menu_stats":1,"stickers_bot_link":1,"widgets_xdm_same_origin":1,"mvk_preload_entries":1,"stickers_money_transfer_suggestions":1,"mvk_mail_include_archived_messages_count":1,"web2_story_box_enabled":1,"navigation_timespent":1,"web_stats_transport_story_view":1,"registration_item_stat":1,"mute_mvk_err_peaks":1,"mini_apps_web_call_api_form_data":1,"web_stats_send_on_events_limit":1,"batchify_web_stats":1,"open_app_bridge_event_to_api":1,"audio_unauth_preview":1,"audio_unauth_preview_box":1,"audio_mediascope":1,"audio_my_tracker_mvk":1,"mvk_navgo_xss_fix":1,"unauthorized_media_layer_box":1,"faq_clean_up_extra_spaces":1,"loginvk_api_use_anonymous_token":1,"games_pass_ref_to_wall_post":1,"remove_a_m_apps_save_stats_act":1,"mail_business_notify":1,"waf_ajax_request_enabled":1,"add_to_menu_event_to_api":1,"cookie_lite_js_save_stat":1,"mvk_waf_ajax_request_enabled":1,"notifications_events_to_api":1,"web_api_fork":1,"smb_get_checkout_url":1,"market_single_cart_ozon_redirect_url_encoding":1,"market_item_seller_response_time":1,"profile_enable_album_tabs":1,"owner_content_tabs_active_tab_click_transition":1,"landing_vkpay_form_prod_env":1,"marusia_web_music_stats":1,"profile_owner_content_tabs_settings":1,"nft_tab_show_empty":1,"personal_in_vkidacc":1,"profile_redesign_new_cover_exp":1,"web_stats_send_beacon":1,"esia_verification_status":1,"vkui_account_common_verification_mark":1,"messenger_mediascope_stats_collect":1,"ui_controls_normalize_html_entities":1,"web_stats_reduce_debounce":1,"web_stats_device_id":1,"mvk_vkapi_capture_async_stacktrace":1,"apps_games_log_xdm_errors_custom":1,"measure_module_navigation_stats":1,"sentry_js_known_issues_mvk_integration":1,"sentry_js_api_errors_mvk_integration":1,"sentry_js_static_errors_mvk_integration":1,"sentry_js_network_detections_mvk_integration":1,"sentry_js_page_snapshot_mvk_integration":1,"sentry_js_mvk_verbose":1,"sentry_js_mvk_snapshot_ls_near_limit":1,"web_inline_grouping_fix":1,"mini_apps_action_menu_mvk":1,"mini_apps_action_menu_back_button_fix_mvk_app_exit":1,"mini_apps_vote_payments_check":1,"mini_apps_disable_ios_bounce_effect":1,"mini_apps_close_app_mvk_history_fix":1,"direct_games_safari_view_controller":1,"direct_games_install_screen_safari_view_controller":1,"mvk_market_item_page_block_banner":1,"mvk_quick_search_canceled_requests_stats":1,"longread_tts_no_stream_error":1,"apps_skip_lazy_static_reload_mvk":1,"mvk_photo_stream_system_albums_to_top":1,"mvk_posting_track_event_count":1,"mvk_posting_force_carousel_mode":1,"posting_share_photo_video_options_limited_mvk":1,"posting_share_wall_media_options_limited_mvk":1,"tech_stories_metrics_web_mvk":1,"mvk_calls_calls_enabled":1,"profile_redesign_onboarding":1,"vkc_app_detection_enabled":1,"marusia_mvk_messenger":1,"marusia_send_start_session":1,"marusia_skill_list_new":1,"mvk_profile_cover_redesign":1,"react_lazy_initiator_abort_render":1,"search_enable_catalog_search_audio":1,"mobile_account_counters_queue":1,"mvk_games_history_back_on_exit":1,"clips_mvk_playlists":1,"video_showcase_mvk_continue_watch_design_fixes":1,"video_playlist_create_modal_hide_header_btn":1,"mvk_skins_legacy_base_TextInput":1,"posting_hashtags_mvk":1,"search_global_catalog_video_suggester":1,"search_video_service_catalog_video_suggester":1,"mini_apps_filter_method_params":1,"mini_apps_duplicate_recommend_modal":1,"new_hashtags_parser":1,"mini_apps_im_integration_catalog_section_web":1,"mini_apps_open_report_form_mvk":1,"search_enable_catalog_search_statuses":1,"search_disable_new_text_parser":1,"search_enable_catalog_search_clips":1,"search_enable_catalog_search_clips_service":1,"search_enable_catalog_clips_suggester":1,"search_enable_catalog_clips_service_suggester":1,"search_enable_new_design_catalog_header":1,"search_enable_catalog_group_members":1,"search_enable_catalog_group_members_actions":1,"search_enable_catalog_search_market_service":1,"media_grid_single_image_blur_enabled":1,"media_grid_with_gray_fields_enabled":1,"single_photo_backdrop_blur_enabled":1,"feed_redesign_web_mvk_grid_height_limit_enabled":1,"media_grid_fullscreen_enabled":1,"feed_secondary_attachment_audio_redesign":1,"video_player_track_onestat_errors":1,"video_player_fix_embed_webview":1,"video_player_mvk_waiting_live":1,"video_player_mvk_mediascope_pixels":1,"video_player_new_embed_mediascope_pixels":1,"video_send_view_history_record":1,"video_history_record_time_send":1,"videoplayer_off_interactive_graph":1,"video_player_support_new_live_links":1,"video_player_ref_domain_embed":1,"video_player_remixstlid_to_onestat":1,"video_log_change_speed_event_mvk":1,"mini_apps_ads_image_aspect_fix":1,"mini_apps_ads_disable_multiple_shows":1,"mini_apps_ads_check_focus_for_banner_update":1,"mini_apps_ads_skip_resize_on_banner_update":1,"mini_apps_ads_landscape_scroll_fix":1,"mini_apps_ads_native_ads_timeout":1,"mini_apps_ads_reward_muted":1,"mini_apps_ads_interstitial_timer_persistent":1,"mini_apps_ads_fullscreen_ads_restricted":1,"web_vitals_inp":1,"web_collect_lcp_element_resource_metrics":1,"vk_bridge_modals_horizontal_layout":1,"music_clear_media_type":1,"mini_apps_catalog_cursor_pagination":1,"audio_special_project_mvk":1,"media_focus_mvk":1,"storage_bridge_events_to_api":1,"account_verified_link":1,"logout_save_user_dialog_mvk":1,"mvk_show_follow_button_as_add":1,"stickers.ugc":1,"client_dev_null_video_uploader_errors":1,"vkid_api_formatted_execute_response":1,"vkidexp_3414_support_fallback_qr":1,"mvk_sentry_js_ignore_local_erorrs":1,"mvk_feed_main_trackcode_client":1,"vk_resource_timing_stats":1,"mix_friends_followers":1,"mvk_react_router_current_stack_length_fix":1,"video_mvk_first_session_promo_ios":1,"video_mvk_first_session_promo_android":1,"video_open_in_app_promo_button_bugfix":1,"mvk_video_show_delete_video_button":1,"mini_apps_performance_web":1,"mini_apps_performance_iframe_errors":1,"mvk_apps_entrypoint":1,"feed_post_menu_stats":1,"mini_apps_profile_bridge_fix":1,"mini_apps_send_session_uuid":1,"mini_apps_collect_performance_from_sdk":1,"mini_apps_fix_double_init_bridge":1,"mini_apps_collect_sessions_from_sdk":1,"mini_apps_send_my_tracker_activity":1,"mini_apps_vkapps_allow_notifications_api":1,"games_send_track_visitor_activity":1,"games_js_sdk_use_api_mvk":1,"mini_apps_send_session_uuid_bridge_events":1,"mini_apps_parse_webview_url_for_launch_ref":1,"mini_apps_toggle_favorite_api":1,"mini_apps_performance_v2":1,"mvk_fix_popstate_nav_update":1,"mvk_spa_page_error_ratio":1,"mvk_profiler_stub_enabled":1,"mvk_catalog_section_without_vk_apps":1,"mvk_navigation_progress_bar":1,"primary_attachment_audio_component_and_services_clean_up":1,"profile_age_mark":1,"feed_secondary_attachment_audio_redesign_mvk":1,"feed_open_audio_stats_for_react":1,"video_permanent_promo_button_android":1,"video_permanent_promo_button_ios":1,"video_bookmarks_renaming_to_watch_later":1,"video_create_playlist_empty_input_bugfix":1,"mvk_keep_client_tab_id":1,"stories_mvk_sticker_template":1,"users_wasm_support":1,"mvk_fix_static_manager_race_condition":1,"feed_content_events_open_mvk":1,"feed_content_events_expand_mvk":1,"feed_content_events_report_mvk":1,"profile_snowballs_mvk":1,"web_mytracker_collect_post_stats":1,"stories_mvk_best_friends":1,"feed_content_events_caption_link_click_mvk":1,"mvk_unused_skins_delete":1,"clips_publish_videos_to_clips_mvk":1,"vkm_mvk_open_chat_link":1,"vkm_check_is_mobile_in_default_act":1,"unique_adblock_users":1,"clips_support_direct_link_mvk":1,"feed_show_more_text_global_handlers_fix_mvk":1,"mvk_lite_mode_disabled":1,"clips_replace_controls_icons_mvk":1,"posting_hide_copyright_button_mvk":1,"mvk_audio_captcha_enabled":1,"collect_ttlb":1,"feed_first_page_size_initial_scroll_check":1,"group_recommended_tips_mvk_enabled":1,"clips_change_grid_title_onscroll":1,"mvk_video_app_promo_slow_yt_modal_should_track_exp_analytics":1,"mvk_remove_api_expired_token_function":1,"mvk_fix_react_navigation_time":1,"mvk_mention_events_with_inited_check":1,"special_groups_redirects":1,"groups_donut_banner_redesign":1,"mvk_router_deactivate_abort_signal":1,"clips_web_blur_restriction":1,"mvk_collect_web_app_starts":1,"web_api_fix_exception":1,"web_api_handle_network_errors":1,"mvk_page_loading_error_banner":1,"web_api_token_fetch_retry":1,"interactive_video_redesign_badge_mvk":1,"web_messenger_open_app_ref":1,"market_single_cart_ozon_mvk":1,"clips_mvk_use_mobx_state":1,"statlogs_clear_all_domains_cookie_MVKC-7414":1,"search_communities_hide_safe_search_filter_mvk":1,"hide_global_search_videoshowcase_mvk":1},"ex":[],"acl":[],"cfg":{"nft_profile_content_count":15,"short_video_pwa_notify_clips_threshold":3,"short_video_pwa_notify_retry_after":14,"short_video_publish_video_to_clips_duration_min":1,"short_video_publish_video_to_clips_duration_max":60,"clips_encode_progress_delay":3000,"clips_encode_progress_attempts":300,"special_subdomains_groups":[[-224318634,"test-sub-host","test_test_7777"],[-226270912,"specialdomaingroup","club226270912"],[-29809500,"sportmailru","sportmailru"]],"mvk_a11y_coverage_downlink_bandwidth":5,"sentry_dsn":["75b6a20df0014dbc8cf4d074eeeea6c5",27],"mvk_a11y_coverage_hash_prefixes":["tab-PUldVA","upload_image_","fXD"],"videoplayer_history_record_watch_time":25,"statlogs_cookie_size_limit":3500,"web_perf_use_new_logic":true,"langs_force_version":1,"vk_resource_compression_map":{"domain":{"userapi.com":"5","vk.com":"1"},"type":{"audio":"5","beacon":"11","css":"2","early-hints":"4","fetch":"7","iframe":"8","image":"12","img":"6","link":"1","navigation":"10","other":"13","script":"3","xmlhttprequest":"9"}}},"audioAdsConfig":{"_":"_"}};
        window.isMVK = true;
        window.audioSubscribe = false;
        window.isArticleWebView = false;

        var vkElem = document.querySelector('.vk');
        var vkClass = vkElem.getAttribute('class');

        function isSchemesSupported() {
          return window.CSS &&
            CSS.supports &&
            CSS.supports('color', 'var(--custom-property)');
        }

        function cssPropertySupported(pNames) {
          var element = document.createElement('a');
          var index = pNames.length;
          try {
            while (index--) {
              var name = pNames[index];

              element.style.display = name;
              if (element.style.display === name) {
                return true;
              }
            }
          } catch (pError) {}

          return false;
        }
        var supports = {
          js: true,
          flex: cssPropertySupported('flex -webkit-flex -ms-flexbox -moz-box -webkit-box'.split(' ')),
          schemes: isSchemesSupported()
        };

        supports.schemes && (vkClass = vkClass.replace('vk_schemes_no', 'vk_schemes_yes'));
        supports.js && (vkClass = vkClass.replace('vk_js_no', 'vk_js_yes'));
        supports.flex && (vkClass = vkClass.replace('vk_flex_no', 'vk_flex_yes'));
        vkElem.setAttribute('class', vkClass);
      })();
    </script>

    
    <script type="text/javascript">
<!--
;/*top_script*/
(function () {
  'use strict';

  const isCSSVariablesSupported = ()=>Boolean(window.CSS && CSS.supports && CSS.supports('color', 'var(--custom-property)'));
  const isMatchMediaSupported = ()=>Boolean(window.matchMedia);
  const isFlexboxSupported = ()=>document.documentElement.classList.contains('vk_flex_yes');
  const isSupportsSupported = ()=>Boolean(window.CSS && CSS.supports);
  const isGridsSupported = ()=>Boolean(typeof document.createElement('div').style.grid === 'string');
  const isSVGSupported = ()=>Boolean(document.createElementNS) && Boolean(document.createElementNS('http://www.w3.org/2000/svg', 'svg').createSVGRect);
  const isMutationObserverSupported = ()=>'MutationObserver' in window;
  function isLogicalAssignmentSupported() {
      try {
          new Function('var v;v||=1')();
      } catch (err) {
          return false;
      }
      return true;
  }
  const isJsModulesSupported = ()=>!window.nomodules;
  const isES2020supported = ()=>Boolean(String.prototype.matchAll);
  let _isES2021supported = null;
  function isES2021supported() {
      if (!_isES2021supported) {
          // ES2021 РІРєР»СЋС‡Р°РµС‚ РІ СЃРµР±СЏ logical assignment. РЎР°С„Р°СЂРё РїРѕРґРґРµСЂР¶Р°Р» ES2021 РІ 13 РІРµСЂСЃРёРё, РЅРѕ Logical Assignment РІ РЅРµРµ РЅРµ РїРѕРїР°Р»
          _isES2021supported = Boolean(String.prototype.replaceAll) && isLogicalAssignmentSupported();
      }
      return _isES2021supported;
  }
  const isES2022supported = ()=>Boolean(Object.hasOwn);

  function top_script(params) {
      deviceInfoDetector(params);
      window.deferStaticEntries = params.defer_static;
      if (params.al_ver) {
          window.al = {
              ver: params.al_ver
          };
      }
      window._preventEvents = [
          'click',
          'touchstart',
          'touchend',
          'mouseover',
          'mousemove'
      ];
      window._preventPointerEventsElement = document.createElement('style');
      window._preventPointerEventsElement.innerHTML = window._preventEvents.map((event)=>`[on${event}]`).join(', ') + ', a, button, input' + ' { pointer-events: none; }';
      document.head.insertAdjacentElement('afterbegin', window._preventPointerEventsElement);
      window._onloadDeferCallbacks = [];
      // РµСЃР»Рё СЂРµСЃР°Р№Р· РїСЂРѕРёР·РѕР№РґРµС‚ РґРѕ Р·Р°РіСЂСѓР·РєРё РїСЂРѕРєСЃРё, Р±СѓРґРµС‚ РјРЅРѕР¶РµСЃС‚РІРѕ РѕС€РёР±РѕРє
      window.onBodyResize = ()=>{};
      // РІ РїРѕСЃР»РµРґРЅРµРµ РІСЂРµРјСЏ СЃС‚Р°Р» СЃРёР»СЊРЅРѕ С„РѕРЅРёС‚СЊ РѕРЅСЃРєСЂРѕР»Р» РјРµСЃСЃРµРЅРґР¶РµСЂР°. РРЅР»Р°Р№РЅ РѕР±СЂР°Р±РѕС‚С‡РёРє, РєРѕС‚РѕСЂС‹Р№ РЅРµ РїСЂРµРІРµРЅС‚РёС‚СЃСЏ
      // Рё РЅРµ СѓСЃРїРµРІР°РµС‚ Р·Р°РїСЂРѕРєСЃРёСЂРѕРІР°С‚СЊСЃСЏ РЅР° РјРµРґР»РµРЅРЅРѕРј РёРЅС‚РµСЂРЅРµС‚Рµ. РЎР°РјС‹Р№ РґРµС€РµРІС‹Р№ СЃРїРѕСЃРѕР± РµРіРѕ СѓСЃРїРѕРєРѕРёС‚СЊ - Р·Р°РіР»СѓС€РєР° РЅРёР¶Рµ
      // РЈР±СЂР°С‚СЊ РєРѕРіРґР° РјРµСЃСЃРµРЅРґР¶РµСЂ РЅР° РјРІРє РЅР°С‡РЅРµС‚ РїРѕРґРґРµСЂР¶РёРІР°С‚СЊСЃСЏ
      window.Messenger = {
          _onMainScroll: ()=>{},
          _onConvoScroll: ()=>{}
      };
      // bootstrap
      window.cur = {
          destroy: []
      };
      window.lang = {};
      window.extend = function() {
          const args = Array.prototype.slice.call(arguments);
          const obj = args.shift();
          if (!args.length) {
              return {
                  obj
              };
          }
          for(let i = 0, l = args.length; i < l; i++){
              for(const key in args[i]){
                  if (key === 'layerX' || key === 'layerY') {
                      continue;
                  }
                  obj[key] = args[i][key];
              }
          }
          return obj;
      };
      window.onDomReady = (callback)=>{
          if (window.document.readyState === 'loading') {
              window.document.addEventListener('DOMContentLoaded', ()=>callback(), {
                  once: true
              });
              return;
          }
          callback();
      };
      window.onDOMReady = window.onDomReady;
      window.onloadDeferStatic = (fn, force = false)=>{
          if (force === true) {
              fn();
          } else if (window.deferStaticEntries.length > 0) {
              window._onloadDeferCallbacks.push(()=>{
                  fn();
              });
          } else {
              window.onDomReady(()=>{
                  fn();
              });
          }
      };
      /**
     * РћР±РѕСЂР°С‡РёРІР°РµС‚ РёРЅР»Р°Р№РЅ РєРѕРґ, С‡С‚РѕР±С‹ РІ СЃР»СѓС‡Р°Рµ РѕС€РёР±РєРё РїРѕРЅСЏС‚СЊ РјРµСЃС‚Рѕ, РІ РєРѕС‚РѕСЂРѕРј СЌС‚РѕС‚ РєРѕРґ Р±С‹Р» РґРѕР±Р°РІР»РµРЅ.
     * Р’РѕР·РјРѕР¶РЅРѕ, СЃС‚РѕРёС‚ СЃРґРµР»Р°С‚СЊ Р±РѕР»РµРµ С‡РёСЃС‚РѕРµ РѕР±РѕСЂР°С‡РёРІР°РЅРёРµ. Р­С‚РѕС‚ РєРѕРґ РґРѕР±Р°РІР»РµРЅ РґР»СЏ РёСЃРїСЂР°РІР»РµРЅРёСЏ С‚РµРєСѓС‰РµРіРѕ С„РѕРЅР°.
     */ window.taggedInline = (name, cb)=>{
          window.__inline_tag = name;
          try {
              cb();
          } catch (e) {
              throw e;
          } finally{
              delete window.__inline_tag;
          }
      };
      // РЎР°РјС‹Рµ РЅРµРѕР±С…РѕРґРёРјС‹Рµ РїРѕР»РёС„РёР»С‹. РћСЃС‚Р°Р»СЊРЅС‹Рµ вЂ” РІ polyfills.js
      if (window.NodeList && !NodeList.prototype.forEach) {
          NodeList.prototype.forEach = Array.prototype.forEach;
      }
      window.onStaticLoadFailed = function notifyScriptBroken(el) {
          if (!el || !('sendBeacon' in navigator)) {
              return;
          }
          navigator.sendBeacon('/?act=broken_static_log', new URLSearchParams({
              type: el.tagName === 'SCRIPT' ? 'script' : 'style',
              src: el.src || el.href,
              visibility: document.visibilityState,
              href: location.href
          }));
      };
      window.onAssetLoaded = function onAssetLoaded(el) {
          if (window.stManager) {
              window.stManager.assetLoaded(el);
          } else {
              var _window;
              var ___loaded_assets;
              (___loaded_assets = (_window = window).__loaded_assets) != null ? ___loaded_assets : _window.__loaded_assets = [];
              window.__loaded_assets.push(el);
          }
      };
      function detectHighestEcmaVersion() {
          const ecmaDetectors = [
              isES2022supported,
              isES2021supported,
              isES2020supported
          ];
          const ecmaVersions = [
              'es2022',
              'es2021',
              'es2020'
          ];
          for(let i = 0; i < ecmaDetectors.length; i++){
              if (ecmaDetectors[i]()) {
                  return ecmaVersions[i];
              }
          }
          return '< es2022';
      }
      window.highestEcmaSupported = detectHighestEcmaVersion();
  }
  function deviceInfoDetector({ iospwa_cookie, device_cookie, cookie_secure, cookie_samesite, cookie_path, cookie_domain, need_reload }) {
      const expires = new Date(new Date().getTime() + 7776e6).toUTCString();
      if (navigator.standalone === true && document.cookie.indexOf(`${iospwa_cookie}=1`) === -1) {
          document.cookie = `${iospwa_cookie}=1; expires=${expires};${cookie_secure}${cookie_samesite} path=${cookie_path}; domain=${cookie_domain}`;
      }
      const doc = document;
      const win = window;
      const typeUndef = 'undefined';
      const supportSign = '!';
      const noSupportSign = '-';
      const screen /* c */  = win.screen;
      const width /* g */  = screen.width || 0;
      const height /* c */  = screen.height || 0;
      const dpr /* n */  = win.devicePixelRatio || 1;
      const innerWidth = win.innerWidth || 0;
      const cookieReg = new RegExp(`(^|;\\s+)${device_cookie}=([^;]+)`);
      const cookieMatched /* p */  = (doc.cookie.match(cookieReg) || [])[2] || '';
      const parts /* h */  = cookieMatched.split('/');
      const DETECTION_COOKIE_LENGTH = 11;
      const isCookieValid = cookieMatched && width == parts[0] && height == parts[1] && dpr == parts[2] && parts[3].length === DETECTION_COOKIE_LENGTH;
      const savedVKUISupportCheck = isCookieValid ? parts[3][8] : false;
      const makeCookieRewrite = savedVKUISupportCheck === noSupportSign && checkVKUISupport() !== savedVKUISupportCheck;
      const updateInnerWidthOnly = isCookieValid && !makeCookieRewrite && innerWidth != parts[4];
      if (!isCookieValid || makeCookieRewrite || updateInnerWidthOnly) {
          const detected /* g */  = [
              width,
              height,
              dpr,
              doDetect(),
              innerWidth
          ].join('/');
          doc.cookie = `${device_cookie}=; expires=${new Date(0).toUTCString()};${cookie_secure}${cookie_samesite} path=${cookie_path}`;
          doc.cookie = `${device_cookie}=${detected}; expires=${expires};${cookie_secure}${cookie_samesite} path=${cookie_path}; domain=${cookie_domain}`;
          if (!updateInnerWidthOnly && doc.cookie !== '' && need_reload) {
              location.reload();
          }
      }
      function checkVKUISupport() {
          const supports = isFlexboxSupported() && isMatchMediaSupported() && isSVGSupported() && isMutationObserverSupported();
          return supports ? supportSign : noSupportSign;
      }
      function checkModernCssSupport() {
          // TODO: Check possibility to replace with VKUI support or jsModules support
          const supports = isFlexboxSupported() && isMatchMediaSupported() && isCSSVariablesSupported() && isSupportsSupported() && isGridsSupported() && isSVGSupported();
          return supports ? supportSign : noSupportSign;
      }
      function doDetect() {
          const supportsXhr /* c */  = function() {
              let supports;
              try {
                  // eslint-disable-next-line no-restricted-globals
                  supports = new XMLHttpRequest();
              } catch (a) {
                  try {
                      supports = new ActiveXObject('Msxml2.XMLHTTP');
                  } catch (err1) {
                      try {
                          supports = new ActiveXObject('Microsoft.XMLHTTP');
                      } catch (err2) {}
                  }
              }
              return supports ? supportSign : noSupportSign;
          }();
          const supportsFile /* g */  = function() {
              let elem = doc.createElement('div');
              elem.innerHTML = '<input type="file" />';
              elem = elem.getElementsByTagName('input')[0];
              return 'file' !== elem.type || elem.disabled ? noSupportSign : supportSign;
          }();
          const supportsTouch /* h */  = 'ontouchstart' in win ? supportSign : noSupportSign;
          let supportsGeo /* m */  = noSupportSign;
          try {
              if (typeof navigator.geolocation !== typeUndef) {
                  supportsGeo = supportSign;
              } else if (typeof win.google !== typeUndef && typeof google.gears !== typeUndef) {
                  supportsGeo = supportSign;
              } else if (typeof device !== typeUndef && typeof device.getServiceObject !== typeUndef) {
                  supportsGeo = supportSign;
              } else if (typeof Mojo !== typeUndef && typeof Mojo.Service.Request !== 'Mojo.Service.Request') {
                  supportsGeo = supportSign;
              }
          } catch (e) {}
          const supportsAudioMpeg /* l */  = function(mimeType) {
              try {
                  const audio = win.Audio ? new Audio() : doc.createElement('audio');
                  if (audio.canPlayType && audio.canPlayType(mimeType) && 'no' !== audio.canPlayType(mimeType)) {
                      return supportSign;
                  }
              } catch (e) {}
              return noSupportSign;
          }('audio/mpeg');
          const supportsTransform /* n */  = function(transform /* b */ ) {
              try {
                  const elem /* a */  = doc.createElement('div');
                  const prefixes /* g */  = [
                      '',
                      'webkit',
                      'Moz',
                      'ms',
                      'O'
                  ];
                  for(let i /* c */  = 0, len /* h */  = prefixes.length; i < len; i++){
                      const prefix = prefixes[i];
                      const prop = prefix ? prefix + transform : transform.toLowerCase();
                      if (typeof elem.style[prop] !== typeUndef) {
                          return supportSign;
                      }
                  }
                  return noSupportSign;
              } catch (e) {
                  return noSupportSign;
              }
          }('Transform');
          const supportsFileAPI = function() {
              if ((win.XMLHttpRequest || win.XDomainRequest) && (win.FormData || win.FileReader && (win.XMLHttpRequest && XMLHttpRequest.sendAsBinary || win.ArrayBuffer && win.Uint8Array && (win.MozBlobBuilder || win.WebKitBlobBuilder || win.BlobBuilder)))) {
                  return supportSign;
              }
              return noSupportSign;
          }();
          const supportsJSModules = isJsModulesSupported() ? supportSign : noSupportSign;
          const supportsVKUI = checkVKUISupport();
          const supportsModernCss = checkModernCssSupport();
          const supportsES2021 = isES2021supported() ? supportSign : noSupportSign;
          return [
              supportsXhr,
              supportsFile,
              supportsTouch,
              supportsGeo,
              supportsAudioMpeg,
              supportsTransform,
              supportsFileAPI,
              supportsJSModules,
              supportsVKUI,
              supportsES2021,
              supportsModernCss
          ].join('');
      }
  }

  return top_script;

})()({"device_cookie":"remixmdevice","iospwa_cookie":"remixmiospwa","cookie_path":"\/","cookie_domain":".vk.com","cookie_samesite":"","cookie_secure":" Secure;","need_reload":true,"defer_static":["unauthorized.js"],"al_ver":""});;/*flush_controller*/
(function () {
  'use strict';

  (function() {
      const frag = document.createDocumentFragment();
      const elem = document.createElement('div');
      const range = document.createRange();
      frag.appendChild(elem);
      range.selectNodeContents(elem);
      window.cdf = function cdf(html) {
          if (!html) return document.createDocumentFragment();
          return range.createContextualFragment(html);
      };
  })();
  function addBodyAttributes(attrsObj) {
      for(const key in attrsObj){
          if (attrsObj.hasOwnProperty(key)) {
              if (document.body.hasAttribute(key) && key === 'class') {
                  document.body.setAttribute(key, document.body.getAttribute(key) + ' ' + attrsObj[key]);
              } else {
                  document.body.setAttribute(key, attrsObj[key]);
              }
          }
      }
  }
  function removeSkeletonLayout() {
      const layoutEl = document.querySelector('.layout--flush');
      if (layoutEl) {
          layoutEl.remove();
      }
  }
  function appendSkeletonToLayout() {
      const el = document.getElementById('flush_skeleton_container');
      const mcont = document.getElementById('mcont');
      mcont.appendChild(el);
      el.style.display = 'block';
      const progressBarLine = document.getElementById('head-progress-bar');
      if (progressBarLine) {
          progressBarLine.style.transform = 'translate(30%)';
      }
  }
  function processFlushHeadPartInsert(value) {
      const html = new DOMParser().parseFromString(value, 'text/html').body.innerText;
      const headFrag = window.cdf(html);
      document.head.appendChild(headFrag);
  }
  function processComments() {
      Array.from(document.body.childNodes).forEach((node)=>{
          if (node.nodeType === 8 && node.nodeValue) {
              const parts = node.nodeValue.split(':');
              const value = parts.slice(1).join(':');
              switch(parts[0]){
                  case 'flush_head_part_insert':
                      processFlushHeadPartInsert(value);
                      node.remove();
                      break;
              }
          }
      });
  }
  function onFlushFinish() {
      delete window.FlushController;
  }
  // eslint-disable-next-line no-restricted-syntax
  function initFlushController() {
      window.FlushController = {
          addBodyAttributes,
          removeSkeletonLayout,
          processComments,
          appendSkeletonToLayout
      };
      document.addEventListener('DOMContentLoaded', ()=>{
          onFlushFinish();
      });
  }

  return initFlushController;

})()([]);
//-->
</script>
    
<link rel="preload" href="https://st3-20.vk.com/css/fonts/VKSansDisplayDemiBoldFaux.v100.woff2" as="font" type="font/woff2" crossorigin/>
    <link rel="stylesheet" href="https://st3-20.vk.com/css/mobile/legacy.30821279ea4f52f3768d.css" onerror="window.onStaticLoadFailed && window.onStaticLoadFailed(this)">
<link rel="stylesheet" href="https://st3-20.vk.com/css/mobile/common.36b096b79de2799d59bf.css" onerror="window.onStaticLoadFailed && window.onStaticLoadFailed(this)">
<link rel="stylesheet" href="https://st3-20.vk.com/css/mobile/audio.3327cdb8a0a9e7799bc1.css" onerror="window.onStaticLoadFailed && window.onStaticLoadFailed(this)">
<link rel="stylesheet" href="https://st3-20.vk.com/css/mobile/login.b904bc80f683c49fba98.css" onerror="window.onStaticLoadFailed && window.onStaticLoadFailed(this)">
<link rel="stylesheet" href="https://st3-20.vk.com/css/mobile/vk_sans_display_faux.7709f6cb23b51d5ed980.css" onerror="window.onStaticLoadFailed && window.onStaticLoadFailed(this)">
<link rel="stylesheet" href="https://st3-20.vk.com/css/mobile/vk_sans_display.9f9256a15167150e20bd.css" onerror="window.onStaticLoadFailed && window.onStaticLoadFailed(this)">
<link rel="stylesheet" href="https://st3-20.vk.com/css/mobile/unauthorized.9956e22c4702bc9562c5.css" onerror="window.onStaticLoadFailed && window.onStaticLoadFailed(this)">
<!--defer:["vkui.css","owner_photo_upload.css"]-->
<!--defer:["unauthorized.js"]-->
<!--async:["grip.js","owner_photo_upload.js"]-->
<script src="https://st3-20.vk.com/dist/mobile/vk_sans_observer.6ee7d92128f51125.js" onerror="window.onStaticLoadFailed && window.onStaticLoadFailed(this)"></script>

    <link rel="canonical" href="https://vk.com/" />
    <link rel="alternate" href="android-app://com.vkontakte.android/vkontakte/m.vk.com/" />
</head><body  class="vk__page _touch _ios_18 vk_ios_yes _hfixed vk_stickers_hints_support_no opera_mini_no vk_safari_no vk__page_login vk_tabbar_bottom  vk_tabbar_hidden   vk_al_no vk_mode_regular">
  <div class="HeadProgressbar" id="head-progress-bar-container" style="visibility: hidden"><div class="HeadProgressbar__progress" style="transform: translate(0%)" id="head-progress-bar"><div></div></div></div>
  <script id="color-scheme-script" type="text/javascript">
<!--
;/*body*/
(function () {
  'use strict';

  function body({ colorSchemeMode, isForcedColorSchemeMode, isDarkSchemeGuideHidden, colorSchemesMap }) {
      const isSchemesSupported = ()=>{
          return window.CSS && CSS.supports && CSS.supports('color', 'var(--custom-property)');
      };
      function initBasicColorScheme(mode, schemesMap) {
          const ColorSchemeMode = {
              Light: 'light',
              Dark: 'dark',
              Auto: 'auto'
          };
          const ColorSchemeName = {
              Dark: 'space_gray',
              Light: 'bright_light'
          };
          const SchemeColors = {
              Dark: '#222222',
              Light: '#ffffff'
          };
          const colorScheme = {
              isSchemesAutoSwitchingSupported () {
                  return window.matchMedia && window.matchMedia('(prefers-color-scheme)').matches;
              },
              applyScheme (element, schemeKey) {
                  const scheme = (schemesMap == null ? void 0 : schemesMap[schemeKey]) || schemeKey;
                  element.setAttribute('scheme', scheme);
              },
              setScheme (isDark) {
                  var _document_querySelector, _document_querySelector1;
                  if (!isSchemesSupported()) {
                      return;
                  }
                  this.applyScheme(document.body, isDark ? ColorSchemeName.Dark : ColorSchemeName.Light);
                  (_document_querySelector = document.querySelector('meta[name=theme-color]')) == null ? void 0 : _document_querySelector.setAttribute('content', isDark ? SchemeColors.Dark : SchemeColors.Light);
                  (_document_querySelector1 = document.querySelector('meta[name=color-scheme]')) == null ? void 0 : _document_querySelector1.setAttribute('content', isDark ? 'dark' : 'light');
              },
              setMode () {
                  let isDark = false;
                  switch(mode){
                      case ColorSchemeMode.Light:
                          {
                              isDark = false;
                              break;
                          }
                      case ColorSchemeMode.Dark:
                          {
                              isDark = true;
                              break;
                          }
                      case ColorSchemeMode.Auto:
                          {
                              if (this.isSchemesAutoSwitchingSupported()) {
                                  const mql = window.matchMedia('(prefers-color-scheme: dark)');
                                  isDark = mql.matches;
                              } else {
                                  mode = ColorSchemeMode.Light;
                              }
                              break;
                          }
                  }
                  this.setScheme(isDark);
              }
          };
          colorScheme.setMode();
      }
      let resultColorSchemeMode = colorSchemeMode;
      let isModeSavingAllowed = true;
      try {
          const sessionsColorSchemeMode = sessionStorage.getItem('colorScheme');
          if (sessionsColorSchemeMode) {
              resultColorSchemeMode = sessionsColorSchemeMode;
              isModeSavingAllowed = false;
              if (window.colorScheme) {
                  window.colorScheme.isModeSavingAllowed = false;
              }
          }
          if (isForcedColorSchemeMode) {
              resultColorSchemeMode = colorSchemeMode;
              isModeSavingAllowed = false;
              if (window.colorScheme) {
                  window.colorScheme.isModeSavingAllowed = false;
              }
              sessionStorage.setItem('colorScheme', colorSchemeMode);
          }
      } catch (e) {}
      if (window.colorScheme) {
          window.colorScheme.init({
              mode: resultColorSchemeMode,
              schemesMap: colorSchemesMap
          });
      } else {
          window.colorSchemeInit = {
              mode: resultColorSchemeMode,
              schemesMap: colorSchemesMap
          };
          window.colorSchemeInitIsModeSavingAllowed = isModeSavingAllowed;
          initBasicColorScheme(resultColorSchemeMode, colorSchemesMap);
      }
      const thisScript = document.getElementById('color-scheme-script');
      thisScript.parentNode.removeChild(thisScript);
  }

  return body;

})()({"colorSchemeMode":"auto","isForcedColorSchemeMode":false,"colorSchemesMap":null});
//-->
</script>
  
  <div style="position: absolute; left: -9999; top: 0; height: 0; width: 0; overflow: hidden;">
<svg class="NftAvatar__asset" xmlns="http://www.w3.org/2000/svg" xmlns:xlink="http://www.w3.org/1999/xlink" width="100" height="100" fill="currentColor" viewBox="0 0 100 100">
  <defs>
    <linearGradient id="nftMountBg" x1="0%" y1="0%" x2="100%" y2="100%">
      <stop stop-color="#2EE6A8"/>
      <stop offset="0.34375" stop-color="#3399FF" />
      <stop offset="0.692708" stop-color="#9933FF" />
      <stop offset="1" stop-color="#FF3399"/>
    </linearGradient>
    <clipPath id="nftClipMask" clipPathUnits="objectBoundingBox">
      <path d="M0.314,0.034 A0.118,0.118,0,0,1,0.428,0.004 l0.382,0.102 a0.118,0.118,0,0,1,0.083,0.083 l0.102,0.382 a0.118,0.118,0,0,1,-0.03,0.114 L0.686,0.966 a0.118,0.118,0,0,1,-0.114,0.03 l-0.382,-0.102 a0.118,0.118,0,0,1,-0.083,-0.083 L0.004,0.428 a0.118,0.118,0,0,1,0.03,-0.114 L0.314,0.034"/>
    </clipPath>
    <clipPath id="decorationNftClip56">
      <path d="M17.6397 2.85774C19.4081 1.08936 21.9855 0.398735 24.4012 1.046L44.5937 6.45657C47.0093 7.10384 48.8962 8.99068 49.5434 11.4063L54.954 31.5988C55.6013 34.0145 54.9106 36.5919 53.1423 38.3603L38.3603 53.1423C36.5919 54.9106 34.0145 55.6013 31.5988 54.954L11.4063 49.5434C8.99068 48.8962 7.10384 47.0093 6.45657 44.5937L1.04601 24.4012C0.398735 21.9855 1.08936 19.4081 2.85774 17.6397L17.6397 2.85774"/>
    </clipPath>
    <clipPath id="decorationNftClip64">
      <path d="M20.5679 2.85774C22.3363 1.08936 24.9137 0.398735 27.3294 1.046L51.5219 7.52837C53.9375 8.17564 55.8244 10.0625 56.4716 12.4781L62.954 36.6706C63.6013 39.0863 62.9106 41.6637 61.1423 43.4321L43.4321 61.1423C41.6637 62.9106 39.0863 63.6013 36.6706 62.954L12.4781 56.4716C10.0625 55.8244 8.17564 53.9375 7.52837 51.5219L1.04601 27.3294C0.398735 24.9137 1.08936 22.3363 2.85774 20.5679L20.5679 2.85774"/>
    </clipPath>
    <mask id="decorationNftMask60">
      <rect fill="white" x="0" y="0" width="100%" height="100%" />
      <path fill="black" d="M 21.1038 4.8577 C 22.8722 3.0894 25.4496 2.3987 27.8653 3.046 L 50.0578 8.9925 C 52.4734 9.6397 54.3603 11.5266 55.0075 13.9422 L 60.954 36.1347 C 61.6013 38.5504 60.9106 41.1278 59.1423 42.8962 L 42.8962 59.1423 C 41.1278 60.9106 38.5504 61.6013 36.1347 60.954 L 13.9422 55.0075 C 11.5266 54.3603 9.6397 52.4734 8.9925 50.0578 L 3.046 27.8653 C 2.3987 25.4496 3.0894 22.8722 4.8577 21.1038 L 21.1038 4.8577"/>
    </mask>
    <clipPath id="decorationCircleClip64">
      <path d="
        M 32 0
        a 32 32 0 0 1 0 64
        a 32 32 0 0 1 0 -64
        v 2
        a 30 30 0 0 0 0 60
        a 30 30 0 0 0 0 -60
      "/>
    </clipPath>
  </defs>
  <path vector-effect="non-scaling-stroke" paint-order="fill" id="nftMount" d="M31.434 3.447A11.77 11.77 0 0 1 42.802.401l38.23 10.244a11.77 11.77 0 0 1 8.323 8.322l10.244 38.23a11.77 11.77 0 0 1-3.046 11.369L68.566 96.553a11.77 11.77 0 0 1-11.368 3.046l-38.23-10.244a11.77 11.77 0 0 1-8.323-8.322L.401 42.803a11.77 11.77 0 0 1 3.046-11.369L31.434 3.447Z"/>
</svg>
</div>
      <div class="layout ">
      
          <div  class="layout__header mhead" id="vk_head"></div>
      <div class="layout__body" id="vk_wrap">
        <div class="layout__leftMenu" id="l">
          
        </div>
        <div class="layout__basis" id="m" role="main">
              <div class="basis">
      <div  class="basis__header mhead basis__header_noBottomMenu basis__header_noshadow basis__header_noshadowAnim basis__header_unauthorized_actions basis__header_nohide" id="mhead"><a href="/" accesskey="*" class="hb_wrap mhb_logo">
  <div class=" lmh_logo_wrap">
    &nbsp;<div class="mhi_logo hb_btn"><div aria-hidden="true" class="svgIcon svgIcon-vk_logo_24"><svg width="24" height="24" viewBox="0 0 24 24" fill="none" xmlns="http://www.w3.org/2000/svg"><rect width="24" height="24" rx="5.76" fill="#07F"/><path d="M12.82 17.5c-5.42 0-8.7-3.76-8.83-10h2.74c.09 4.59 2.17 6.53 3.77 6.93V7.5h2.63v3.96c1.54-.17 3.16-1.97 3.7-3.96h2.59A7.62 7.62 0 0 1 16 12.49a7.9 7.9 0 0 1 4.01 5.01h-2.84c-.6-1.9-2.07-3.37-4.05-3.57v3.57h-.31Z" fill="#fff"/></svg></div></div><div class="mhi_logo_text"><div aria-hidden="true" class="svgIcon svgIcon-vk_logo_composite_text_24"><svg fill="none" height="24" viewBox="0 0 112 24" width="112" xmlns="http://www.w3.org/2000/svg"><clipPath id="id-vk_logo_composite_text_24__a"><path d="M0 0h112v24H0z"/></clipPath><g clip-path="url(#id-vk_logo_composite_text_24__a)"><path clip-rule="evenodd" d="M43 12.5c0 3.34-2.43 5.5-5.88 5.5-3.45 0-5.88-2.16-5.88-5.5S33.67 7 37.12 7C40.57 7 43 9.16 43 12.5zm-9.22 0c0 2.07 1.35 3.5 3.34 3.5s3.34-1.43 3.34-3.5-1.35-3.45-3.34-3.45-3.34 1.38-3.34 3.45zm-17.03-.21c.95-.44 1.56-1.18 1.56-2.33 0-1.73-1.58-2.96-3.87-2.96H9.17v11h5.5c2.37 0 4.02-1.29 4.02-3.05 0-1.33-.87-2.32-1.94-2.66zM11.6 9.01h2.83c.85 0 1.44.5 1.44 1.2s-.6 1.2-1.44 1.2h-2.83zM14.67 16h-3.06V13.3h3.06c.96 0 1.59.55 1.59 1.36s-.63 1.33-1.59 1.33zM27.84 18h3.19l-5.06-5.71L30.61 7h-2.9l-3.68 4.27h-.6V7H21v11h2.44v-4.38h.59zM52.47 7v4.34h-4.93V7H45.1v11h2.43v-4.44h4.93V18h2.43V7zM62.9 18h-2.44V9.22h-3.8V7H66.7v2.22h-3.8zm9.7-11c-2.14 0-4.02.89-4.57 2.8l2.24.37a2.38 2.38 0 0 1 2.2-1.25c1.33 0 2.12.9 2.22 2.33h-2.37c-3.23 0-4.84 1.42-4.84 3.45 0 2.05 1.59 3.3 3.83 3.3 1.8 0 3-.82 3.53-1.73l.5 1.73h1.8v-6.18c0-3.19-1.73-4.82-4.54-4.82zm-.72 9.16c-1.18 0-1.95-.61-1.95-1.57 0-.84.62-1.43 2.48-1.43h2.3c0 1.8-1.14 3-2.83 3zM89.73 18h-3.2l-3.8-4.38h-.6V18H79.7V7h2.44v4.27h.59L86.4 7h2.9l-4.63 5.29zM94 18h2.44V9.22h3.8V7H90.2v2.22H94zm12.3-11c3.33 0 5.7 2.2 5.7 5.37 0 .3-.02.55-.04.79h-8.84c.23 1.69 1.46 2.83 3.32 2.83 1.29 0 2.3-.55 2.83-1.33l2.29.38c-.83 2.1-2.98 2.96-5.27 2.96-3.34 0-5.71-2.18-5.71-5.5s2.37-5.5 5.71-5.5zm3.06 4.25A3.06 3.06 0 0 0 106.29 9a3 3 0 0 0-3.02 2.25z" fill="currentColor" fill-rule="evenodd"/></g></svg></div></div>
  </div>
  <h1 class="hb_btn mh_header">&nbsp;</h1>
</a>


</div>
      <div class="basis__menu"><div class="VideoFilterBadgeFiller"></div></div>
      
      <svg style="position: absolute;" height="0.1">
        <rect width="0.1" height="0.1" fill="currentColor" />
      </svg>
      <span id="critical_css_first_chunk"></span>
      <div class="basis__content mcont" id="mcont" data-canonical="https://vk.com/">
        <div class="screen_login"><div class="PageBlock installApp">
  <a class="installApp__link" href="https://vk.me/?act=dl">
    <div class="installApp__link_wrap">
      <div class="installApp__label">
        Установить приложение <b>ВКонтакте</b>
        <span class="installApp__arrow"></span>
      </div>
    </div>
  </a>
</div><div class="fit_box bl_cont new_form VkIdForm">
  <div></div>
  <div class="PageBlock">
    
    <div class="form_item">
      <div class="VkIdForm__title">
        Вход ВКонтакте
      </div>
      <div class="VkIdForm__header">
        Мобильная версия поможет вам оставаться ВКонтакте, даже если вы далеко от компьютера.
      </div>
      

      <div class="fi_row" style="display:none;">
        <a class="Btn Btn_stretch Btn_theme_regular VkIdForm__button" href="/join?vkid_auth_type=vk_app_sign_in&hidden=1" rel="noopener">Войти через приложение</a>
      </div>

      <div class="fi_row" style="display:none;">
        <a class="Btn Btn_stretch Btn_theme_secondary VkIdForm__button" href="/join?vkid_auth_type=sign_in&hidden=1" rel="noopener">Войти по телефону или почте</a>
      </div>

      <div class="fi_row" id="vkidform__vkapp_signin">
        <a class="Btn Btn_stretch Btn_theme_regular VkIdForm__button" href="/join?vkid_auth_type=vk_app_sign_in" rel="noopener">Войти через приложение</a>
      </div>

      <div class="fi_row" id="vkidform__signin">
        <a class="Btn Btn_stretch Btn_theme_secondary VkIdForm__button" href="/join?vkid_auth_type=sign_in" rel="noopener">Войти по телефону или почте</a>
      </div>
    </div>
  </div>
  <div class="PageBlock VkIdForm__signUpBlock">
    <div class="form_item">
      <div class="fi_row" style="display:none;">
        <a class="Btn Btn_stretch Btn_theme_positive VkIdForm__button" href="/join?vkid_auth_type=sign_up&hidden=1" rel="noopener">Создать аккаунт</a>
      </div>

      <div class="fi_row">
        <a class="Btn Btn_stretch Btn_theme_positive VkIdForm__button" href="/join?vkid_auth_type=sign_up" rel="noopener">Создать аккаунт</a>
        <a class="Btn Btn_stretch Btn_theme_outlineRegular VkIdForm__businessSignUpButton" href="/join?vkid_auth_type=business_sign_up" rel="noopener">Создать страницу для бизнеса</a>
      </div>
    </div>
  </div>
</div></div>
        <div id="spa_global_root"></div>
      </div>
          <div class="basis__footer mfoot" id="mfoot"><div class="pfoot">
  <ul class="footer_menu">
    <li class="fm_row"><a class="fm_item" href="/settings?act=change_regional&hash=609efa060603b7d3e3&lang_id=3">English</a></li>
    <li class="fm_row"><a class="fm_item" href="/settings?act=select_lang">all languages »</a></li>
  </ul>
  <ul id="footer_menu" class="footer_menu">
    <li class="fm_row"><a class="fm_item" href="https://vk.com/?act=client_url_proxy&_to=aHR0cHM6Ly92ay5jb20vP19mbT0xJl9mbTI9MQ&_openBrowser=1" data-task-click="Nav/post_nav" data-prevent="true">Версия для компьютера</a></li>
  </ul>
  <ul id="footer_menu" class="footer_menu">
  <li class="fm_row">
    <a class="fm_item" href="/legal/recommendations">Применяются рекомендательные технологии</a>
  </li>
</ul>
  <ul class="footer_menu">
  <li class="fm_row"><a class="fm_item" href="/?act=go2app&app=iphone&entry=login_footer_menu">Приложение для iOS</a></li>
</ul>
</div></div>
      
          <div aria-hidden="true" class="_cntrs" style="height:0;overflow:hidden;">
          <img width="1" height="1" src="https://sb.scorecardresearch.com/p?c1=2&c2=13765216&c3=&c4=https%3A%2F%2Fm.vk.com%2Flogin%3Fslogin_h%3D27e6b2658bcc25a7b4.8c527a9667c0a62be3%26role%3Dfast%26to%3D%26niuh%3D1&c5=&c9=&c15=&cv=2.0&cj=1&rn=76246156" alt="">
      
      <noscript><img src="//top-fwz1.mail.ru/counter?id=2579437;pid=0;r=" style="border:0;" height="1" width="1" /></noscript>
    </div>
    </div>
        </div>
      </div>
    </div><script>window.layoutReady = true; window.dispatchEvent(new CustomEvent('layoutReady'))</script>
  
  <noscript><img style='display: none' src='/?act=no_js&hash=6b32b8faf7066c2515' /></noscript>
  <script type="text/javascript">
<!--
onloadDeferStatic(function(){parent&&parent!=window&&(document.body.innerHTML='');try {window.store.stickers = {"url_template":"https:\/\/vk.com\/sticker\/1-%id%-%size%"}}catch(e){};(function (d, w, id) {
  if (d.getElementById(id)) return;
  var ts = d.createElement("script"); ts.type = "text/javascript"; ts.async = true; ts.id = id;
  ts.src = "https://top-fwz1.mail.ru/js/code.js";
  var f = function () {var s = d.getElementsByTagName("script")[0]; s.parentNode.insertBefore(ts, s);};
  if (w.opera == "[object Opera]") { d.addEventListener("DOMContentLoaded", f, false); } else { f(); }
})(document, window, "tmr-code");}, false);
//-->
</script>
  <div id="vk_utils"></div>
  <div id="z"></div>
  <div id="MediaView_container"></div>
  <div id="vk_bottom"></div>
  <div id="theme_color_shim"></div>
  
  
</body>